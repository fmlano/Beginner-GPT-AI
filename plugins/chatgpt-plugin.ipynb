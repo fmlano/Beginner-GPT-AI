{
 "cells": [
  {
   "attachments": {},
   "cell_type": "markdown",
   "metadata": {},
   "source": [
    "# Build a S3 bucket plugin for ChatGPT"
   ]
  },
  {
   "attachments": {},
   "cell_type": "markdown",
   "metadata": {},
   "source": [
    "- https://langchain.readthedocs.io/en/latest/modules/document_loaders/examples/s3_directory.html\n",
    "- https://github.com/pinecone-io/examples/blob/master/generation/chatgpt/plugins/langchain-docs-plugin.ipynb"
   ]
  },
  {
   "attachments": {},
   "cell_type": "markdown",
   "metadata": {},
   "source": [
    "## S3 document loader"
   ]
  },
  {
   "cell_type": "code",
   "execution_count": 2,
   "metadata": {},
   "outputs": [],
   "source": [
    "from langchain.document_loaders import S3DirectoryLoader"
   ]
  },
  {
   "cell_type": "code",
   "execution_count": 3,
   "metadata": {},
   "outputs": [],
   "source": [
    "loader = S3DirectoryLoader(\"chatgpt-plugin\",prefix=\"PaulGrahamEssays\")"
   ]
  },
  {
   "cell_type": "code",
   "execution_count": 4,
   "metadata": {},
   "outputs": [],
   "source": [
    "docs = loader.load()"
   ]
  },
  {
   "cell_type": "code",
   "execution_count": 40,
   "metadata": {},
   "outputs": [],
   "source": [
    "import pickle\n",
    "# # Save\n",
    "# with open(\"s3docs.pkl\",\"wb\") as f:\n",
    "#     pickle.dump(docs,f)\n",
    "# Load\n",
    "with open(\"s3docs.pkl\",\"rb\") as f:\n",
    "    docs = pickle.load(f)\n",
    "# docs"
   ]
  },
  {
   "cell_type": "code",
   "execution_count": 41,
   "metadata": {},
   "outputs": [
    {
     "data": {
      "text/plain": [
       "216"
      ]
     },
     "execution_count": 41,
     "metadata": {},
     "output_type": "execute_result"
    }
   ],
   "source": [
    "len(docs)"
   ]
  },
  {
   "cell_type": "code",
   "execution_count": 7,
   "metadata": {},
   "outputs": [
    {
     "data": {
      "text/plain": [
       "Document(page_content='Want to start a startup?  Get funded by\\n\\nY Combinator.\\n\\nWatch how this essay was\\n\\nwritten.\\n\\nFebruary 2009One of the things I always tell startups is a principle I learned\\n\\nfrom Paul Buchheit: it\\'s better to make a few people really happy\\n\\nthan to make a lot of people semi-happy.  I was saying recently to\\n\\na reporter that if I could only tell startups 10 things, this would\\n\\nbe one of them.  Then I thought: what would the other 9 be?When I made the list there turned out to be 13:\\n\\n1. Pick good cofounders.Cofounders are for a startup what location is for real estate.  You\\n\\ncan change anything about a house except where it is.  In a startup\\n\\nyou can change your idea easily, but changing your cofounders is\\n\\nhard.\\n\\n[1]\\n\\nAnd the success of a startup is almost always a function\\n\\nof its founders.2. Launch fast.The reason to launch fast is not so much that it\\'s critical to get\\n\\nyour product to market early, but that you haven\\'t really started\\n\\nworking on it till you\\'ve launched.  Launching teaches you what you\\n\\nshould have been building.  Till you know that you\\'re wasting your\\n\\ntime.  So the main value of whatever you launch with is as a pretext\\n\\nfor engaging users.3. Let your idea evolve.This is the second half of launching fast. Launch fast and iterate.\\n\\nIt\\'s a big mistake to treat a startup as if it were merely a matter\\n\\nof implementing some brilliant initial idea. As in an essay, most\\n\\nof the ideas appear in the implementing.4. Understand your users.You can envision the wealth created by a startup as a rectangle,\\n\\nwhere one side is the number of users and the other is how much you\\n\\nimprove their lives.\\n\\n[2]\\n\\nThe second dimension is the one you have\\n\\nmost control over.  And indeed, the growth in the first will be\\n\\ndriven by how well you do in the second.  As in science, the hard\\n\\npart is not answering questions but asking them: the hard part is\\n\\nseeing something new that users lack. The better you understand\\n\\nthem the better the odds of doing that. That\\'s why so many successful\\n\\nstartups make something the founders needed.5. Better to make a few users love you than a lot ambivalent.Ideally you want to make large numbers of users love you, but you\\n\\ncan\\'t expect to hit that right away.  Initially you have to choose\\n\\nbetween satisfying all the needs of a subset of potential users,\\n\\nor satisfying a subset of the needs of all potential users.  Take\\n\\nthe first. It\\'s easier to expand userwise than satisfactionwise.\\n\\nAnd perhaps more importantly, it\\'s harder to lie to yourself.  If\\n\\nyou think you\\'re 85% of the way to a great product, how do you know\\n\\nit\\'s not 70%?  Or 10%?  Whereas it\\'s easy to know how many users\\n\\nyou have.6. Offer surprisingly good customer service.Customers are used to being maltreated.  Most of the companies they\\n\\ndeal with are quasi-monopolies that get away with atrocious customer\\n\\nservice. Your own ideas about what\\'s possible have been unconsciously\\n\\nlowered by such experiences.  Try making your customer service not\\n\\nmerely good, but\\n\\nsurprisingly good.  Go out of your way to make\\n\\npeople happy.  They\\'ll be overwhelmed; you\\'ll see.  In the earliest\\n\\nstages of a startup, it pays to offer customer service on a level\\n\\nthat wouldn\\'t scale, because it\\'s a way of learning about your\\n\\nusers.7. You make what you measure.I learned this one from Joe Kraus.\\n\\n[3]\\n\\nMerely measuring something\\n\\nhas an uncanny tendency to improve it.  If you want to make your\\n\\nuser numbers go up, put a big piece of paper on your wall and every\\n\\nday plot the number of users.  You\\'ll be delighted when it goes up\\n\\nand disappointed when it goes down.  Pretty soon you\\'ll start\\n\\nnoticing what makes the number go up, and you\\'ll start to do more\\n\\nof that.  Corollary: be careful what you measure.8. Spend little.I can\\'t emphasize enough how important it is for a startup to be cheap.\\n\\nMost startups fail before they make something people want, and the\\n\\nmost common form of failure is running out of money.  So being cheap\\n\\nis (almost) interchangeable with iterating rapidly.\\n\\n[4]\\n\\nBut it\\'s\\n\\nmore than that.  A culture of cheapness keeps companies young in\\n\\nsomething like the way exercise keeps people young.9. Get ramen profitable.\"Ramen profitable\" means a startup makes just enough to pay the\\n\\nfounders\\' living expenses.  It\\'s not rapid prototyping for business\\n\\nmodels (though it can be), but more a way of hacking the investment\\n\\nprocess.  Once you cross over into ramen profitable, it completely\\n\\nchanges your relationship with investors.  It\\'s also great for\\n\\nmorale.10. Avoid distractions.Nothing kills startups like distractions.  The worst type are those\\n\\nthat pay money: day jobs, consulting, profitable side-projects.\\n\\nThe startup may have more long-term potential, but you\\'ll always\\n\\ninterrupt working on it to answer calls from people paying you now.\\n\\nParadoxically, fundraising is this type of distraction, so try to\\n\\nminimize that too.11. Don\\'t get demoralized.Though the immediate cause of death in a startup tends to be running\\n\\nout of money, the underlying cause is usually lack of focus.  Either\\n\\nthe company is run by stupid people (which can\\'t be fixed with\\n\\nadvice) or the people are smart but got demoralized.  Starting a\\n\\nstartup is a huge moral weight.  Understand this and make a conscious\\n\\neffort not to be ground down by it, just as you\\'d be careful to\\n\\nbend at the knees when picking up a heavy box.12. Don\\'t give up.Even if you get demoralized, don\\'t give up.  You can get surprisingly\\n\\nfar by just not giving up.  This isn\\'t true in all fields.  There\\n\\nare a lot of people who couldn\\'t become good mathematicians no\\n\\nmatter how long they persisted.  But startups aren\\'t like that.\\n\\nSheer effort is usually enough, so long as you keep morphing your\\n\\nidea.13. Deals fall through.One of the most useful skills we learned from Viaweb was not getting\\n\\nour hopes up.  We probably had 20 deals of various types fall\\n\\nthrough.  After the first 10 or so we learned to treat deals as\\n\\nbackground processes that we should ignore till they terminated.\\n\\nIt\\'s very dangerous to morale to start to depend on deals closing,\\n\\nnot just because they so often don\\'t, but because it makes them\\n\\nless likely to.\\n\\nHaving gotten it down to 13 sentences, I asked myself which I\\'d\\n\\nchoose if I could only keep one.Understand your users.  That\\'s the key.  The essential task in a\\n\\nstartup is to create wealth; the dimension of wealth you have most\\n\\ncontrol over is how much you improve users\\' lives; and the hardest\\n\\npart of that is knowing what to make for them.  Once you know what\\n\\nto make, it\\'s mere effort to make it, and most decent hackers are\\n\\ncapable of that.Understanding your users is part of half the principles in this\\n\\nlist.  That\\'s the reason to launch early, to understand your users.\\n\\nEvolving your idea is the embodiment of understanding your users.\\n\\nUnderstanding your users well will tend to push you toward making\\n\\nsomething that makes a few people deeply happy.  The most important\\n\\nreason for having surprisingly good customer service is that it\\n\\nhelps you understand your users.  And understanding your users will\\n\\neven ensure your morale, because when everything else is collapsing\\n\\naround you, having just ten users who love you will keep you going.Notes[1]\\n\\nStrictly speaking it\\'s impossible without a time machine.[2]\\n\\nIn practice it\\'s more like a ragged comb.[3]\\n\\nJoe thinks one of the founders of Hewlett Packard said it first,\\n\\nbut he doesn\\'t remember which.[4]\\n\\nThey\\'d be interchangeable if markets stood still.  Since they\\n\\ndon\\'t, working twice as fast is better than having twice as much\\n\\ntime.', lookup_str='', metadata={'source': 'C:\\\\Users\\\\ydebray\\\\AppData\\\\Local\\\\Temp\\\\tmpqaz2su57/PaulGrahamEssays/13sentences.txt'}, lookup_index=0)"
      ]
     },
     "execution_count": 7,
     "metadata": {},
     "output_type": "execute_result"
    }
   ],
   "source": [
    "docs[0]"
   ]
  },
  {
   "cell_type": "code",
   "execution_count": 8,
   "metadata": {},
   "outputs": [
    {
     "name": "stdout",
     "output_type": "stream",
     "text": [
      "Want to start a startup?  Get funded by\n",
      "\n",
      "Y Combinator.\n",
      "\n",
      "Watch how this essay was\n",
      "\n",
      "written.\n",
      "\n",
      "February 2009One of the things I always tell startups is a principle I learned\n",
      "\n",
      "from Paul Buchheit: it's better to make a few people really happy\n",
      "\n",
      "than to make a lot of people semi-happy.  I was saying recently to\n",
      "\n",
      "a reporter that if I could only tell startups 10 things, this would\n",
      "\n",
      "be one of them.  Then I thought: what would the other 9 be?When I made the list there turned out to be 13:\n",
      "\n",
      "1. Pick good cofounders.Cofounders are for a startup what location is for real estate.  You\n",
      "\n",
      "can change anything about a house except where it is.  In a startup\n",
      "\n",
      "you can change your idea easily, but changing your cofounders is\n",
      "\n",
      "hard.\n",
      "\n",
      "[1]\n",
      "\n",
      "And the success of a startup is almost always a function\n",
      "\n",
      "of its founders.2. Launch fast.The reason to launch fast is not so much that it's critical to get\n",
      "\n",
      "your product to market early, but that you haven't really started\n",
      "\n",
      "working on it till you've launched.  Launching teaches you what you\n",
      "\n",
      "should have been building.  Till you know that you're wasting your\n",
      "\n",
      "time.  So the main value of whatever you launch with is as a pretext\n",
      "\n",
      "for engaging users.3. Let your idea evolve.This is the second half of launching fast. Launch fast and iterate.\n",
      "\n",
      "It's a big mistake to treat a startup as if it were merely a matter\n",
      "\n",
      "of implementing some brilliant initial idea. As in an essay, most\n",
      "\n",
      "of the ideas appear in the implementing.4. Understand your users.You can envision the wealth created by a startup as a rectangle,\n",
      "\n",
      "where one side is the number of users and the other is how much you\n",
      "\n",
      "improve their lives.\n",
      "\n",
      "[2]\n",
      "\n",
      "The second dimension is the one you have\n",
      "\n",
      "most control over.  And indeed, the growth in the first will be\n",
      "\n",
      "driven by how well you do in the second.  As in science, the hard\n",
      "\n",
      "part is not answering questions but asking them: the hard part is\n",
      "\n",
      "seeing something new that users lack. The better you understand\n",
      "\n",
      "them the better the odds of doing that. That's why so many successful\n",
      "\n",
      "startups make something the founders needed.5. Better to make a few users love you than a lot ambivalent.Ideally you want to make large numbers of users love you, but you\n",
      "\n",
      "can't expect to hit that right away.  Initially you have to choose\n",
      "\n",
      "between satisfying all the needs of a subset of potential users,\n",
      "\n",
      "or satisfying a subset of the needs of all potential users.  Take\n",
      "\n",
      "the first. It's easier to expand userwise than satisfactionwise.\n",
      "\n",
      "And perhaps more importantly, it's harder to lie to yourself.  If\n",
      "\n",
      "you think you're 85% of the way to a great product, how do you know\n",
      "\n",
      "it's not 70%?  Or 10%?  Whereas it's easy to know how many users\n",
      "\n",
      "you have.6. Offer surprisingly good customer service.Customers are used to being maltreated.  Most of the companies they\n",
      "\n",
      "deal with are quasi-monopolies that get away with atrocious customer\n",
      "\n",
      "service. Your own ideas about what's possible have been unconsciously\n",
      "\n",
      "lowered by such experiences.  Try making your customer service not\n",
      "\n",
      "merely good, but\n",
      "\n",
      "surprisingly good.  Go out of your way to make\n",
      "\n",
      "people happy.  They'll be overwhelmed; you'll see.  In the earliest\n",
      "\n",
      "stages of a startup, it pays to offer customer service on a level\n",
      "\n",
      "that wouldn't scale, because it's a way of learning about your\n",
      "\n",
      "users.7. You make what you measure.I learned this one from Joe Kraus.\n",
      "\n",
      "[3]\n",
      "\n",
      "Merely measuring something\n",
      "\n",
      "has an uncanny tendency to improve it.  If you want to make your\n",
      "\n",
      "user numbers go up, put a big piece of paper on your wall and every\n",
      "\n",
      "day plot the number of users.  You'll be delighted when it goes up\n",
      "\n",
      "and disappointed when it goes down.  Pretty soon you'll start\n",
      "\n",
      "noticing what makes the number go up, and you'll start to do more\n",
      "\n",
      "of that.  Corollary: be careful what you measure.8. Spend little.I can't emphasize enough how important it is for a startup to be cheap.\n",
      "\n",
      "Most startups fail before they make something people want, and the\n",
      "\n",
      "most common form of failure is running out of money.  So being cheap\n",
      "\n",
      "is (almost) interchangeable with iterating rapidly.\n",
      "\n",
      "[4]\n",
      "\n",
      "But it's\n",
      "\n",
      "more than that.  A culture of cheapness keeps companies young in\n",
      "\n",
      "something like the way exercise keeps people young.9. Get ramen profitable.\"Ramen profitable\" means a startup makes just enough to pay the\n",
      "\n",
      "founders' living expenses.  It's not rapid prototyping for business\n",
      "\n",
      "models (though it can be), but more a way of hacking the investment\n",
      "\n",
      "process.  Once you cross over into ramen profitable, it completely\n",
      "\n",
      "changes your relationship with investors.  It's also great for\n",
      "\n",
      "morale.10. Avoid distractions.Nothing kills startups like distractions.  The worst type are those\n",
      "\n",
      "that pay money: day jobs, consulting, profitable side-projects.\n",
      "\n",
      "The startup may have more long-term potential, but you'll always\n",
      "\n",
      "interrupt working on it to answer calls from people paying you now.\n",
      "\n",
      "Paradoxically, fundraising is this type of distraction, so try to\n",
      "\n",
      "minimize that too.11. Don't get demoralized.Though the immediate cause of death in a startup tends to be running\n",
      "\n",
      "out of money, the underlying cause is usually lack of focus.  Either\n",
      "\n",
      "the company is run by stupid people (which can't be fixed with\n",
      "\n",
      "advice) or the people are smart but got demoralized.  Starting a\n",
      "\n",
      "startup is a huge moral weight.  Understand this and make a conscious\n",
      "\n",
      "effort not to be ground down by it, just as you'd be careful to\n",
      "\n",
      "bend at the knees when picking up a heavy box.12. Don't give up.Even if you get demoralized, don't give up.  You can get surprisingly\n",
      "\n",
      "far by just not giving up.  This isn't true in all fields.  There\n",
      "\n",
      "are a lot of people who couldn't become good mathematicians no\n",
      "\n",
      "matter how long they persisted.  But startups aren't like that.\n",
      "\n",
      "Sheer effort is usually enough, so long as you keep morphing your\n",
      "\n",
      "idea.13. Deals fall through.One of the most useful skills we learned from Viaweb was not getting\n",
      "\n",
      "our hopes up.  We probably had 20 deals of various types fall\n",
      "\n",
      "through.  After the first 10 or so we learned to treat deals as\n",
      "\n",
      "background processes that we should ignore till they terminated.\n",
      "\n",
      "It's very dangerous to morale to start to depend on deals closing,\n",
      "\n",
      "not just because they so often don't, but because it makes them\n",
      "\n",
      "less likely to.\n",
      "\n",
      "Having gotten it down to 13 sentences, I asked myself which I'd\n",
      "\n",
      "choose if I could only keep one.Understand your users.  That's the key.  The essential task in a\n",
      "\n",
      "startup is to create wealth; the dimension of wealth you have most\n",
      "\n",
      "control over is how much you improve users' lives; and the hardest\n",
      "\n",
      "part of that is knowing what to make for them.  Once you know what\n",
      "\n",
      "to make, it's mere effort to make it, and most decent hackers are\n",
      "\n",
      "capable of that.Understanding your users is part of half the principles in this\n",
      "\n",
      "list.  That's the reason to launch early, to understand your users.\n",
      "\n",
      "Evolving your idea is the embodiment of understanding your users.\n",
      "\n",
      "Understanding your users well will tend to push you toward making\n",
      "\n",
      "something that makes a few people deeply happy.  The most important\n",
      "\n",
      "reason for having surprisingly good customer service is that it\n",
      "\n",
      "helps you understand your users.  And understanding your users will\n",
      "\n",
      "even ensure your morale, because when everything else is collapsing\n",
      "\n",
      "around you, having just ten users who love you will keep you going.Notes[1]\n",
      "\n",
      "Strictly speaking it's impossible without a time machine.[2]\n",
      "\n",
      "In practice it's more like a ragged comb.[3]\n",
      "\n",
      "Joe thinks one of the founders of Hewlett Packard said it first,\n",
      "\n",
      "but he doesn't remember which.[4]\n",
      "\n",
      "They'd be interchangeable if markets stood still.  Since they\n",
      "\n",
      "don't, working twice as fast is better than having twice as much\n",
      "\n",
      "time.\n"
     ]
    }
   ],
   "source": [
    "print(docs[0].page_content)"
   ]
  },
  {
   "cell_type": "code",
   "execution_count": 14,
   "metadata": {},
   "outputs": [
    {
     "data": {
      "text/plain": [
       "'C:\\\\Users\\\\ydebray\\\\AppData\\\\Local\\\\Temp\\\\tmpqaz2su57/PaulGrahamEssays/13sentences.txt'"
      ]
     },
     "execution_count": 14,
     "metadata": {},
     "output_type": "execute_result"
    }
   ],
   "source": [
    "docs[0].metadata['source']"
   ]
  },
  {
   "attachments": {},
   "cell_type": "markdown",
   "metadata": {},
   "source": [
    "## Split documents in chunks "
   ]
  },
  {
   "cell_type": "code",
   "execution_count": 10,
   "metadata": {},
   "outputs": [],
   "source": [
    "import tiktoken\n",
    "\n",
    "tokenizer = tiktoken.get_encoding('cl100k_base')\n",
    "\n",
    "# create the length function\n",
    "def tiktoken_len(text):\n",
    "    tokens = tokenizer.encode(\n",
    "        text,\n",
    "        disallowed_special=()\n",
    "    )\n",
    "    return len(tokens)"
   ]
  },
  {
   "cell_type": "code",
   "execution_count": 11,
   "metadata": {},
   "outputs": [],
   "source": [
    "from langchain.text_splitter import RecursiveCharacterTextSplitter\n",
    "\n",
    "text_splitter = RecursiveCharacterTextSplitter(\n",
    "    chunk_size=400,\n",
    "    chunk_overlap=20,  # number of tokens overlap between chunks\n",
    "    length_function=tiktoken_len,\n",
    "    separators=['\\n\\n', '\\n', ' ', '']\n",
    ")"
   ]
  },
  {
   "cell_type": "code",
   "execution_count": 12,
   "metadata": {},
   "outputs": [
    {
     "data": {
      "text/plain": [
       "5"
      ]
     },
     "execution_count": 12,
     "metadata": {},
     "output_type": "execute_result"
    }
   ],
   "source": [
    "chunks = text_splitter.split_text(docs[5].page_content)\n",
    "len(chunks)"
   ]
  },
  {
   "cell_type": "code",
   "execution_count": 19,
   "metadata": {},
   "outputs": [
    {
     "data": {
      "text/plain": [
       "'July 2010What hard liquor, cigarettes, heroin, and crack have in common is\\n\\nthat they\\'re all more concentrated forms of less addictive predecessors.\\n\\nMost if not all the things we describe as addictive are.  And the\\n\\nscary thing is, the process that created them is accelerating.We wouldn\\'t want to stop it.  It\\'s the same process that cures\\n\\ndiseases: technological progress.  Technological progress means\\n\\nmaking things do more of what we want.  When the thing we want is\\n\\nsomething we want to want, we consider technological progress good.\\n\\nIf some new technique makes solar cells x% more efficient, that\\n\\nseems strictly better.  When progress concentrates something we\\n\\ndon\\'t want to want—when it transforms opium into heroin—it seems\\n\\nbad.  But it\\'s the same process at work.\\n\\n[1]No one doubts this process is accelerating, which means increasing\\n\\nnumbers of things we like will be transformed into things we like\\n\\ntoo much.\\n\\n[2]As far as I know there\\'s no word for something we like too much.\\n\\nThe closest is the colloquial sense of \"addictive.\" That usage has\\n\\nbecome increasingly common during my lifetime.  And it\\'s clear why:\\n\\nthere are an increasing number of things we need it for.  At the\\n\\nextreme end of the spectrum are crack and meth.  Food has been\\n\\ntransformed by a combination of factory farming and innovations in\\n\\nfood processing into something with way more immediate bang for the\\n\\nbuck, and you can see the results in any town in America.  Checkers\\n\\nand solitaire have been replaced by World of Warcraft and FarmVille.\\n\\nTV has become much more engaging, and even so it can\\'t compete with Facebook.The world is more addictive than it was 40 years ago.   And unless\\n\\nthe forms of technological progress that produced these things are'"
      ]
     },
     "execution_count": 19,
     "metadata": {},
     "output_type": "execute_result"
    }
   ],
   "source": [
    "chunks[0]"
   ]
  },
  {
   "cell_type": "code",
   "execution_count": 13,
   "metadata": {},
   "outputs": [
    {
     "data": {
      "text/plain": [
       "(389, 392)"
      ]
     },
     "execution_count": 13,
     "metadata": {},
     "output_type": "execute_result"
    }
   ],
   "source": [
    "tiktoken_len(chunks[0]), tiktoken_len(chunks[1])"
   ]
  },
  {
   "cell_type": "code",
   "execution_count": 18,
   "metadata": {},
   "outputs": [
    {
     "name": "stdout",
     "output_type": "stream",
     "text": [
      "addiction.txt\n",
      "41af49a835d4\n"
     ]
    }
   ],
   "source": [
    "import hashlib\n",
    "m = hashlib.md5()  # this will convert URL into unique ID\n",
    "\n",
    "url = docs[5].metadata['source'].replace('C:\\\\Users\\\\ydebray\\\\AppData\\\\Local\\\\Temp\\\\', '').split('/')[2]\n",
    "print(url)\n",
    "\n",
    "# convert URL to unique ID\n",
    "m.update(url.encode('utf-8'))\n",
    "uid = m.hexdigest()[:12]\n",
    "print(uid)"
   ]
  },
  {
   "cell_type": "code",
   "execution_count": 24,
   "metadata": {},
   "outputs": [
    {
     "data": {
      "text/plain": [
       "1882"
      ]
     },
     "execution_count": 24,
     "metadata": {},
     "output_type": "execute_result"
    }
   ],
   "source": [
    "texts = text_splitter.split_documents(docs)\n",
    "len(texts)"
   ]
  },
  {
   "attachments": {},
   "cell_type": "markdown",
   "metadata": {},
   "source": [
    "## Store doc chunks in VectorDB as embeddings"
   ]
  },
  {
   "cell_type": "code",
   "execution_count": 20,
   "metadata": {},
   "outputs": [],
   "source": [
    "from langchain.embeddings.openai import OpenAIEmbeddings\n",
    "from langchain.vectorstores import Chroma"
   ]
  },
  {
   "cell_type": "code",
   "execution_count": 25,
   "metadata": {},
   "outputs": [
    {
     "name": "stdout",
     "output_type": "stream",
     "text": [
      "Running Chroma using direct local API.\n",
      "Using DuckDB in-memory for database. Data will be transient.\n"
     ]
    }
   ],
   "source": [
    "embeddings = OpenAIEmbeddings()\n",
    "docsearch = Chroma.from_documents(texts, embeddings)"
   ]
  },
  {
   "cell_type": "code",
   "execution_count": 26,
   "metadata": {},
   "outputs": [
    {
     "data": {
      "text/plain": [
       "<langchain.vectorstores.chroma.Chroma at 0x1e6000fea70>"
      ]
     },
     "execution_count": 26,
     "metadata": {},
     "output_type": "execute_result"
    }
   ],
   "source": [
    "docsearch"
   ]
  },
  {
   "attachments": {},
   "cell_type": "markdown",
   "metadata": {},
   "source": [
    "## Query on Documents"
   ]
  },
  {
   "cell_type": "code",
   "execution_count": 27,
   "metadata": {},
   "outputs": [],
   "source": [
    "from langchain import OpenAI, VectorDBQA"
   ]
  },
  {
   "cell_type": "code",
   "execution_count": 28,
   "metadata": {},
   "outputs": [],
   "source": [
    "qa = VectorDBQA.from_chain_type(llm=OpenAI(), chain_type=\"stuff\", vectorstore=docsearch)"
   ]
  },
  {
   "cell_type": "code",
   "execution_count": 29,
   "metadata": {},
   "outputs": [
    {
     "data": {
      "text/plain": [
       "' McCarthy discovered a way to create a programming language using a handful of simple operators and a notation for functions. He called this language Lisp, for “List Processing,” because one of his key ideas was to use a simple data structure called a list for both code and data.'"
      ]
     },
     "execution_count": 29,
     "metadata": {},
     "output_type": "execute_result"
    }
   ],
   "source": [
    "query = \"What did McCarthy discover?\"\n",
    "qa.run(query)"
   ]
  },
  {
   "cell_type": "code",
   "execution_count": 33,
   "metadata": {},
   "outputs": [
    {
     "data": {
      "text/plain": [
       "{'query': 'What did McCarthy discover?',\n",
       " 'result': ' McCarthy discovered a formal model of computation, which he called Lisp, that could be written in itself. It was a set of predefined operators and a notation for functions that could be used to create a programming language.',\n",
       " 'source_documents': [Document(page_content='May 2001\\n\\n(I wrote this article to help myself understand exactly\\n\\nwhat McCarthy discovered.  You don\\'t need to know this stuff\\n\\nto program in Lisp, but it should be helpful to\\n\\nanyone who wants to\\n\\nunderstand the essence of Lisp \\x97 both in the sense of its\\n\\norigins and its semantic core.  The fact that it has such a core\\n\\nis one of Lisp\\'s distinguishing features, and the reason why,\\n\\nunlike other languages, Lisp has dialects.)In 1960, John\\n\\nMcCarthy published a remarkable paper in\\n\\nwhich he did for programming something like what Euclid did for\\n\\ngeometry. He showed how, given a handful of simple\\n\\noperators and a notation for functions, you can\\n\\nbuild a whole programming language.\\n\\nHe called this language Lisp, for \"List Processing,\"\\n\\nbecause one of his key ideas was to use a simple\\n\\ndata structure called a list for both\\n\\ncode and data.It\\'s worth understanding what McCarthy discovered, not\\n\\njust as a landmark in the history of computers, but as\\n\\na model for what programming is tending to become in\\n\\nour own time.  It seems to me that there have been\\n\\ntwo really clean, consistent models of programming so\\n\\nfar: the C model and the Lisp model.\\n\\nThese two seem points of high ground, with swampy lowlands\\n\\nbetween them.  As computers have grown more powerful,\\n\\nthe new languages being developed have been moving\\n\\nsteadily toward the Lisp model.  A popular recipe\\n\\nfor new programming languages in the past 20 years\\n\\nhas been to take the C model of computing and add to\\n\\nit, piecemeal, parts taken from the Lisp model,\\n\\nlike runtime typing and garbage collection.In this article I\\'m going to try to explain in the\\n\\nsimplest possible terms what McCarthy discovered.\\n\\nThe point is not just to learn about an interesting\\n\\ntheoretical result someone figured out forty years ago,', lookup_str='', metadata={'source': 'C:\\\\Users\\\\ydebray\\\\AppData\\\\Local\\\\Temp\\\\tmpzdr4l7mr/PaulGrahamEssays/rootsoflisp.txt'}, lookup_index=0),\n",
       "  Document(page_content=\"that now is their chance.[18]\\n\\nThe worst thing about leaving YC was not working with Jessica\\n\\nanymore. We'd been working on YC almost the whole time we'd known\\n\\neach other, and we'd neither tried nor wanted to separate it from\\n\\nour personal lives, so leaving was like pulling up a deeply rooted\\n\\ntree.[19]\\n\\nOne way to get more precise about the concept of invented vs\\n\\ndiscovered is to talk about space aliens. Any sufficiently advanced\\n\\nalien civilization would certainly know about the Pythagorean\\n\\ntheorem, for example. I believe, though with less certainty, that\\n\\nthey would also know about the Lisp in McCarthy's 1960 paper.But if so there's no reason to suppose that this is the limit of\\n\\nthe language that might be known to them. Presumably aliens need\\n\\nnumbers and errors and I/O too. So it seems likely there exists at\\n\\nleast one path out of McCarthy's Lisp along which discoveredness\\n\\nis preserved.Thanks to Trevor Blackwell, John Collison, Patrick Collison, Daniel\\n\\nGackle, Ralph Hazell, Jessica Livingston, Robert Morris, and Harj\\n\\nTaggar for reading drafts of this.\", lookup_str='', metadata={'source': 'C:\\\\Users\\\\ydebray\\\\AppData\\\\Local\\\\Temp\\\\tmp0olaf23r/PaulGrahamEssays/worked.txt'}, lookup_index=0),\n",
       "  Document(page_content=\"theoretical result someone figured out forty years ago,\\n\\nbut to show where languages are heading.\\n\\nThe unusual thing about Lisp \\x97 in fact, the defining\\n\\nquality of Lisp \\x97 is that it can be written in\\n\\nitself.  To understand what McCarthy meant by this,\\n\\nwe're going to retrace his steps, with his mathematical\\n\\nnotation translated into running Common Lisp code.\", lookup_str='', metadata={'source': 'C:\\\\Users\\\\ydebray\\\\AppData\\\\Local\\\\Temp\\\\tmpzdr4l7mr/PaulGrahamEssays/rootsoflisp.txt'}, lookup_index=0),\n",
       "  Document(page_content=\"defined by writing an interpreter in itself. It wasn't originally\\n\\nintended as a programming language in the ordinary sense. It was\\n\\nmeant to be a formal model of computation, an alternative to the\\n\\nTuring machine. If you want to write an interpreter for a language\\n\\nin itself, what's the minimum set of predefined operators you need?\\n\\nThe Lisp that John McCarthy invented, or more accurately discovered,\\n\\nis an answer to that question.\\n\\n[19]McCarthy didn't realize this Lisp could even be used to program\\n\\ncomputers till his grad student Steve Russell suggested it. Russell\\n\\ntranslated McCarthy's interpreter into IBM 704 machine language,\\n\\nand from that point Lisp started also to be a programming language\\n\\nin the ordinary sense. But its origins as a model of computation\\n\\ngave it a power and elegance that other languages couldn't match.\\n\\nIt was this that attracted me in college, though I didn't understand\\n\\nwhy at the time.McCarthy's 1960 Lisp did nothing more than interpret Lisp expressions.\\n\\nIt was missing a lot of things you'd want in a programming language.\\n\\nSo these had to be added, and when they were, they weren't defined\\n\\nusing McCarthy's original axiomatic approach. That wouldn't have\\n\\nbeen feasible at the time. McCarthy tested his interpreter by\\n\\nhand-simulating the execution of programs. But it was already getting\\n\\nclose to the limit of interpreters you could test that way \\x97 indeed,\\n\\nthere was a bug in it that McCarthy had overlooked. To test a more\\n\\ncomplicated interpreter, you'd have had to run it, and computers\\n\\nthen weren't powerful enough.Now they are, though. Now you could continue using McCarthy's\\n\\naxiomatic approach till you'd defined a complete programming language.\\n\\nAnd as long as every change you made to McCarthy's Lisp was a\\n\\ndiscoveredness-preserving transformation, you could, in principle,\", lookup_str='', metadata={'source': 'C:\\\\Users\\\\ydebray\\\\AppData\\\\Local\\\\Temp\\\\tmp0olaf23r/PaulGrahamEssays/worked.txt'}, lookup_index=0)]}"
      ]
     },
     "execution_count": 33,
     "metadata": {},
     "output_type": "execute_result"
    }
   ],
   "source": [
    "qa = VectorDBQA.from_chain_type(llm=OpenAI(), chain_type=\"stuff\", vectorstore=docsearch, return_source_documents=True)\n",
    "query = \"What did McCarthy discover?\"\n",
    "result = qa({\"query\": query})\n",
    "result['result']\n",
    "result = qa({\"query\": query})\n",
    "result"
   ]
  },
  {
   "cell_type": "code",
   "execution_count": 37,
   "metadata": {},
   "outputs": [
    {
     "data": {
      "text/plain": [
       "'rootsoflisp.txt'"
      ]
     },
     "execution_count": 37,
     "metadata": {},
     "output_type": "execute_result"
    }
   ],
   "source": [
    "# result['result']\n",
    "result['source_documents'][0].dict()['metadata']['source'].replace('C:\\\\Users\\\\ydebray\\\\AppData\\\\Local\\\\Temp\\\\', '').split('/')[2]"
   ]
  },
  {
   "attachments": {},
   "cell_type": "markdown",
   "metadata": {},
   "source": [
    "## TODO: Do the same from the S3 Plugin"
   ]
  }
 ],
 "metadata": {
  "kernelspec": {
   "display_name": "env",
   "language": "python",
   "name": "python3"
  },
  "language_info": {
   "codemirror_mode": {
    "name": "ipython",
    "version": 3
   },
   "file_extension": ".py",
   "mimetype": "text/x-python",
   "name": "python",
   "nbconvert_exporter": "python",
   "pygments_lexer": "ipython3",
   "version": "3.10.4"
  },
  "orig_nbformat": 4
 },
 "nbformat": 4,
 "nbformat_minor": 2
}
