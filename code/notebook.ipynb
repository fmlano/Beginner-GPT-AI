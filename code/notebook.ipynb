{
 "cells": [
  {
   "cell_type": "markdown",
   "metadata": {},
   "source": [
    "# OpenAI"
   ]
  },
  {
   "cell_type": "code",
   "execution_count": 1,
   "metadata": {},
   "outputs": [],
   "source": [
    "import openai\n",
    "import tomli"
   ]
  },
  {
   "cell_type": "code",
   "execution_count": 2,
   "metadata": {},
   "outputs": [],
   "source": [
    "with open('.streamlit/secrets.toml','rb') as f:\n",
    "    toml_dict = tomli.load(f)"
   ]
  },
  {
   "cell_type": "code",
   "execution_count": 3,
   "metadata": {},
   "outputs": [],
   "source": [
    "openai.api_key = toml_dict['OPEN_AI_KEY']"
   ]
  },
  {
   "cell_type": "markdown",
   "metadata": {},
   "source": [
    "# GPT"
   ]
  },
  {
   "attachments": {},
   "cell_type": "markdown",
   "metadata": {},
   "source": [
    "### Davinci text"
   ]
  },
  {
   "cell_type": "code",
   "execution_count": 4,
   "metadata": {},
   "outputs": [
    {
     "data": {
      "text/plain": [
       "' Certainly! Can I ask why you want to cancel your subscription?'"
      ]
     },
     "execution_count": 4,
     "metadata": {},
     "output_type": "execute_result"
    }
   ],
   "source": [
    "response = openai.Completion.create(\n",
    "  model='text-davinci-003',\n",
    "  prompt='The following is a conversation with an AI assistant. The assistant is helpful, creative, clever, and very friendly.\\n\\nHuman: Hello, who are you?\\nAI: I am an AI created by OpenAI. How can I help you today?\\nHuman: I\\'d like to cancel my subscription.\\nAI:',\n",
    "  temperature=0.9,\n",
    "  max_tokens=150,\n",
    "  top_p=1,\n",
    "  frequency_penalty=0.0,\n",
    "  presence_penalty=0.6,\n",
    "  stop=[' Human:', ' AI:']\n",
    ")\n",
    "response.choices[0].text"
   ]
  },
  {
   "attachments": {},
   "cell_type": "markdown",
   "metadata": {},
   "source": [
    "### GPT 3.5 turbo"
   ]
  },
  {
   "cell_type": "code",
   "execution_count": 11,
   "metadata": {},
   "outputs": [
    {
     "data": {
      "text/plain": [
       "\"I'm sorry to hear that you want to cancel your subscription. Can you please let me know which service you'd like to cancel your subscription for?\""
      ]
     },
     "execution_count": 11,
     "metadata": {},
     "output_type": "execute_result"
    }
   ],
   "source": [
    "context = 'The following is a conversation with an AI assistant. The assistant is helpful, creative, clever, and very friendly.'\n",
    "completion = openai.ChatCompletion.create(\n",
    "    model='gpt-3.5-turbo',\n",
    "      messages=[\n",
    "        {'role': 'system','content': context },\n",
    "        {'role': 'user', 'content': 'Hello, who are you?' },\n",
    "        {'role': 'assistant', 'content': 'I am an AI created by OpenAI. How can I help you today?'},\n",
    "        {'role': 'user', 'content': 'I\\'d like to cancel my subscription.'}\n",
    "            ]\n",
    ")\n",
    "completion.choices[0].message.content"
   ]
  },
  {
   "attachments": {},
   "cell_type": "markdown",
   "metadata": {},
   "source": [
    "#### Generate Python code"
   ]
  },
  {
   "cell_type": "code",
   "execution_count": 5,
   "metadata": {},
   "outputs": [
    {
     "data": {
      "text/markdown": [
       "\n",
       "\n",
       "As an AI language model, I cannot provide the complete implementation of the code but I can give you a general idea of how you can perform linear regression on a sine function in Python.\n",
       "\n",
       "In order to perform linear regression on a sine function, you need to:\n",
       "\n",
       "1. Import the necessary libraries such as numpy, matplotlib, and scikit-learn.\n",
       "2. Create an array of values for x-axis which will represent the angle.\n",
       "3. Create an array of values for y-axis which will represent the sine of the angle.\n",
       "4. Split the data into training and testing sets.\n",
       "5. Create an instance of the linear regression model.\n",
       "6. Fit the model with the training data.\n",
       "7. Make predictions using the testing data.\n",
       "8. Plot the actual data and the predicted data.\n",
       "\n",
       "Here is a code snippet that demonstrates how to perform linear regression on a sine function:\n",
       "\n",
       "```\n",
       "import numpy as np\n",
       "import matplotlib.pyplot as plt\n",
       "from sklearn.linear_model import LinearRegression\n",
       "\n",
       "# Create an array of angle values\n",
       "x = np.linspace(0, 2*np.pi, 100)\n",
       "\n",
       "# Create an array of sine values\n",
       "y = np.sin(x)\n",
       "\n",
       "# Split the data into training and testing sets\n",
       "train_size = int(len(x)*0.7)\n",
       "x_train = x[:train_size]\n",
       "y_train = y[:train_size]\n",
       "x_test = x[train_size:]\n",
       "y_test = y[train_size:]\n",
       "\n",
       "# Create an instance of the linear regression model\n",
       "model = LinearRegression()\n",
       "\n",
       "# Fit the model with the training data\n",
       "model.fit(x_train.reshape(-1, 1), y_train)\n",
       "\n",
       "# Make predictions using the testing data\n",
       "y_pred = model.predict(x_test.reshape(-1, 1))\n",
       "\n",
       "# Plot the actual data and the predicted data\n",
       "plt.plot(x_test, y_test, 'b.', label='Actual')\n",
       "plt.plot(x_test, y_pred, 'r-', label='Predicted')\n",
       "plt.legend(loc='upper right')\n",
       "plt.show()\n",
       "```\n",
       "\n",
       "This will give you a plot of the actual sine function and the predicted sine function based on the linear regression model. You can modify the code to experiment with different values and parameters of the linear regression model."
      ],
      "text/plain": [
       "<IPython.core.display.Markdown object>"
      ]
     },
     "execution_count": 5,
     "metadata": {},
     "output_type": "execute_result"
    }
   ],
   "source": [
    "from IPython.display import Markdown\n",
    "prompt = 'write a python linear regression on a sine function'\n",
    "completion = openai.ChatCompletion.create(\n",
    "    model='gpt-3.5-turbo',\n",
    "      messages=[\n",
    "          {'role': 'user', 'content': prompt }\n",
    "            ]\n",
    ")\n",
    "Markdown(completion.choices[0].message.content)"
   ]
  },
  {
   "cell_type": "code",
   "execution_count": 16,
   "metadata": {},
   "outputs": [
    {
     "data": {
      "text/plain": [
       "\"```\\nimport numpy as np\\nfrom sklearn.linear_model import LinearRegression\\n\\n# Generate sample data\\nx = np.linspace(0, 2*np.pi, 100)\\ny = np.sin(x)\\n\\n# Reshape data for sklearn\\nx = x[:, np.newaxis]\\ny = y[:, np.newaxis]\\n\\n# Create linear regression object\\nlin_reg = LinearRegression()\\n\\n# Fit data to linear regression model\\nlin_reg.fit(x, y)\\n\\n# Print slope and intercept\\nprint('Slope: ', lin_reg.coef_[0][0])\\nprint('Intercept: ', lin_reg.intercept_[0])\\n```\""
      ]
     },
     "execution_count": 16,
     "metadata": {},
     "output_type": "execute_result"
    }
   ],
   "source": [
    "prompt = 'write a python linear regression on a sine function'\n",
    "completion = openai.ChatCompletion.create(\n",
    "    model='gpt-3.5-turbo',\n",
    "      messages=[\n",
    "        {'role': 'system', 'content': 'you will give only python code as output, no explanatory text , no formatting'},\n",
    "        {'role': 'user', 'content': prompt }\n",
    "            ]\n",
    ")\n",
    "completion.choices[0].message.content"
   ]
  },
  {
   "cell_type": "code",
   "execution_count": 17,
   "metadata": {},
   "outputs": [
    {
     "data": {
      "text/html": [
       "<style>pre { line-height: 125%; }\n",
       "td.linenos .normal { color: inherit; background-color: transparent; padding-left: 5px; padding-right: 5px; }\n",
       "span.linenos { color: inherit; background-color: transparent; padding-left: 5px; padding-right: 5px; }\n",
       "td.linenos .special { color: #000000; background-color: #ffffc0; padding-left: 5px; padding-right: 5px; }\n",
       "span.linenos.special { color: #000000; background-color: #ffffc0; padding-left: 5px; padding-right: 5px; }\n",
       ".output_html .hll { background-color: #ffffcc }\n",
       ".output_html { background: #f8f8f8; }\n",
       ".output_html .c { color: #3D7B7B; font-style: italic } /* Comment */\n",
       ".output_html .err { border: 1px solid #FF0000 } /* Error */\n",
       ".output_html .k { color: #008000; font-weight: bold } /* Keyword */\n",
       ".output_html .o { color: #666666 } /* Operator */\n",
       ".output_html .ch { color: #3D7B7B; font-style: italic } /* Comment.Hashbang */\n",
       ".output_html .cm { color: #3D7B7B; font-style: italic } /* Comment.Multiline */\n",
       ".output_html .cp { color: #9C6500 } /* Comment.Preproc */\n",
       ".output_html .cpf { color: #3D7B7B; font-style: italic } /* Comment.PreprocFile */\n",
       ".output_html .c1 { color: #3D7B7B; font-style: italic } /* Comment.Single */\n",
       ".output_html .cs { color: #3D7B7B; font-style: italic } /* Comment.Special */\n",
       ".output_html .gd { color: #A00000 } /* Generic.Deleted */\n",
       ".output_html .ge { font-style: italic } /* Generic.Emph */\n",
       ".output_html .gr { color: #E40000 } /* Generic.Error */\n",
       ".output_html .gh { color: #000080; font-weight: bold } /* Generic.Heading */\n",
       ".output_html .gi { color: #008400 } /* Generic.Inserted */\n",
       ".output_html .go { color: #717171 } /* Generic.Output */\n",
       ".output_html .gp { color: #000080; font-weight: bold } /* Generic.Prompt */\n",
       ".output_html .gs { font-weight: bold } /* Generic.Strong */\n",
       ".output_html .gu { color: #800080; font-weight: bold } /* Generic.Subheading */\n",
       ".output_html .gt { color: #0044DD } /* Generic.Traceback */\n",
       ".output_html .kc { color: #008000; font-weight: bold } /* Keyword.Constant */\n",
       ".output_html .kd { color: #008000; font-weight: bold } /* Keyword.Declaration */\n",
       ".output_html .kn { color: #008000; font-weight: bold } /* Keyword.Namespace */\n",
       ".output_html .kp { color: #008000 } /* Keyword.Pseudo */\n",
       ".output_html .kr { color: #008000; font-weight: bold } /* Keyword.Reserved */\n",
       ".output_html .kt { color: #B00040 } /* Keyword.Type */\n",
       ".output_html .m { color: #666666 } /* Literal.Number */\n",
       ".output_html .s { color: #BA2121 } /* Literal.String */\n",
       ".output_html .na { color: #687822 } /* Name.Attribute */\n",
       ".output_html .nb { color: #008000 } /* Name.Builtin */\n",
       ".output_html .nc { color: #0000FF; font-weight: bold } /* Name.Class */\n",
       ".output_html .no { color: #880000 } /* Name.Constant */\n",
       ".output_html .nd { color: #AA22FF } /* Name.Decorator */\n",
       ".output_html .ni { color: #717171; font-weight: bold } /* Name.Entity */\n",
       ".output_html .ne { color: #CB3F38; font-weight: bold } /* Name.Exception */\n",
       ".output_html .nf { color: #0000FF } /* Name.Function */\n",
       ".output_html .nl { color: #767600 } /* Name.Label */\n",
       ".output_html .nn { color: #0000FF; font-weight: bold } /* Name.Namespace */\n",
       ".output_html .nt { color: #008000; font-weight: bold } /* Name.Tag */\n",
       ".output_html .nv { color: #19177C } /* Name.Variable */\n",
       ".output_html .ow { color: #AA22FF; font-weight: bold } /* Operator.Word */\n",
       ".output_html .w { color: #bbbbbb } /* Text.Whitespace */\n",
       ".output_html .mb { color: #666666 } /* Literal.Number.Bin */\n",
       ".output_html .mf { color: #666666 } /* Literal.Number.Float */\n",
       ".output_html .mh { color: #666666 } /* Literal.Number.Hex */\n",
       ".output_html .mi { color: #666666 } /* Literal.Number.Integer */\n",
       ".output_html .mo { color: #666666 } /* Literal.Number.Oct */\n",
       ".output_html .sa { color: #BA2121 } /* Literal.String.Affix */\n",
       ".output_html .sb { color: #BA2121 } /* Literal.String.Backtick */\n",
       ".output_html .sc { color: #BA2121 } /* Literal.String.Char */\n",
       ".output_html .dl { color: #BA2121 } /* Literal.String.Delimiter */\n",
       ".output_html .sd { color: #BA2121; font-style: italic } /* Literal.String.Doc */\n",
       ".output_html .s2 { color: #BA2121 } /* Literal.String.Double */\n",
       ".output_html .se { color: #AA5D1F; font-weight: bold } /* Literal.String.Escape */\n",
       ".output_html .sh { color: #BA2121 } /* Literal.String.Heredoc */\n",
       ".output_html .si { color: #A45A77; font-weight: bold } /* Literal.String.Interpol */\n",
       ".output_html .sx { color: #008000 } /* Literal.String.Other */\n",
       ".output_html .sr { color: #A45A77 } /* Literal.String.Regex */\n",
       ".output_html .s1 { color: #BA2121 } /* Literal.String.Single */\n",
       ".output_html .ss { color: #19177C } /* Literal.String.Symbol */\n",
       ".output_html .bp { color: #008000 } /* Name.Builtin.Pseudo */\n",
       ".output_html .fm { color: #0000FF } /* Name.Function.Magic */\n",
       ".output_html .vc { color: #19177C } /* Name.Variable.Class */\n",
       ".output_html .vg { color: #19177C } /* Name.Variable.Global */\n",
       ".output_html .vi { color: #19177C } /* Name.Variable.Instance */\n",
       ".output_html .vm { color: #19177C } /* Name.Variable.Magic */\n",
       ".output_html .il { color: #666666 } /* Literal.Number.Integer.Long */</style><div class=\"highlight\"><pre><span></span><span class=\"err\">```</span>\n",
       "<span class=\"kn\">import</span> <span class=\"nn\">numpy</span> <span class=\"k\">as</span> <span class=\"nn\">np</span>\n",
       "<span class=\"kn\">from</span> <span class=\"nn\">sklearn.linear_model</span> <span class=\"kn\">import</span> <span class=\"n\">LinearRegression</span>\n",
       "\n",
       "<span class=\"c1\"># Generate sample data</span>\n",
       "<span class=\"n\">x</span> <span class=\"o\">=</span> <span class=\"n\">np</span><span class=\"o\">.</span><span class=\"n\">linspace</span><span class=\"p\">(</span><span class=\"mi\">0</span><span class=\"p\">,</span> <span class=\"mi\">2</span><span class=\"o\">*</span><span class=\"n\">np</span><span class=\"o\">.</span><span class=\"n\">pi</span><span class=\"p\">,</span> <span class=\"mi\">100</span><span class=\"p\">)</span>\n",
       "<span class=\"n\">y</span> <span class=\"o\">=</span> <span class=\"n\">np</span><span class=\"o\">.</span><span class=\"n\">sin</span><span class=\"p\">(</span><span class=\"n\">x</span><span class=\"p\">)</span>\n",
       "\n",
       "<span class=\"c1\"># Reshape data for sklearn</span>\n",
       "<span class=\"n\">x</span> <span class=\"o\">=</span> <span class=\"n\">x</span><span class=\"p\">[:,</span> <span class=\"n\">np</span><span class=\"o\">.</span><span class=\"n\">newaxis</span><span class=\"p\">]</span>\n",
       "<span class=\"n\">y</span> <span class=\"o\">=</span> <span class=\"n\">y</span><span class=\"p\">[:,</span> <span class=\"n\">np</span><span class=\"o\">.</span><span class=\"n\">newaxis</span><span class=\"p\">]</span>\n",
       "\n",
       "<span class=\"c1\"># Create linear regression object</span>\n",
       "<span class=\"n\">lin_reg</span> <span class=\"o\">=</span> <span class=\"n\">LinearRegression</span><span class=\"p\">()</span>\n",
       "\n",
       "<span class=\"c1\"># Fit data to linear regression model</span>\n",
       "<span class=\"n\">lin_reg</span><span class=\"o\">.</span><span class=\"n\">fit</span><span class=\"p\">(</span><span class=\"n\">x</span><span class=\"p\">,</span> <span class=\"n\">y</span><span class=\"p\">)</span>\n",
       "\n",
       "<span class=\"c1\"># Print slope and intercept</span>\n",
       "<span class=\"nb\">print</span><span class=\"p\">(</span><span class=\"s1\">&#39;Slope: &#39;</span><span class=\"p\">,</span> <span class=\"n\">lin_reg</span><span class=\"o\">.</span><span class=\"n\">coef_</span><span class=\"p\">[</span><span class=\"mi\">0</span><span class=\"p\">][</span><span class=\"mi\">0</span><span class=\"p\">])</span>\n",
       "<span class=\"nb\">print</span><span class=\"p\">(</span><span class=\"s1\">&#39;Intercept: &#39;</span><span class=\"p\">,</span> <span class=\"n\">lin_reg</span><span class=\"o\">.</span><span class=\"n\">intercept_</span><span class=\"p\">[</span><span class=\"mi\">0</span><span class=\"p\">])</span>\n",
       "<span class=\"err\">```</span>\n",
       "</pre></div>\n"
      ],
      "text/latex": [
       "\\begin{Verbatim}[commandchars=\\\\\\{\\}]\n",
       "\\PY{err}{`}\\PY{err}{`}\\PY{err}{`}\n",
       "\\PY{k+kn}{import} \\PY{n+nn}{numpy} \\PY{k}{as} \\PY{n+nn}{np}\n",
       "\\PY{k+kn}{from} \\PY{n+nn}{sklearn}\\PY{n+nn}{.}\\PY{n+nn}{linear\\PYZus{}model} \\PY{k+kn}{import} \\PY{n}{LinearRegression}\n",
       "\n",
       "\\PY{c+c1}{\\PYZsh{} Generate sample data}\n",
       "\\PY{n}{x} \\PY{o}{=} \\PY{n}{np}\\PY{o}{.}\\PY{n}{linspace}\\PY{p}{(}\\PY{l+m+mi}{0}\\PY{p}{,} \\PY{l+m+mi}{2}\\PY{o}{*}\\PY{n}{np}\\PY{o}{.}\\PY{n}{pi}\\PY{p}{,} \\PY{l+m+mi}{100}\\PY{p}{)}\n",
       "\\PY{n}{y} \\PY{o}{=} \\PY{n}{np}\\PY{o}{.}\\PY{n}{sin}\\PY{p}{(}\\PY{n}{x}\\PY{p}{)}\n",
       "\n",
       "\\PY{c+c1}{\\PYZsh{} Reshape data for sklearn}\n",
       "\\PY{n}{x} \\PY{o}{=} \\PY{n}{x}\\PY{p}{[}\\PY{p}{:}\\PY{p}{,} \\PY{n}{np}\\PY{o}{.}\\PY{n}{newaxis}\\PY{p}{]}\n",
       "\\PY{n}{y} \\PY{o}{=} \\PY{n}{y}\\PY{p}{[}\\PY{p}{:}\\PY{p}{,} \\PY{n}{np}\\PY{o}{.}\\PY{n}{newaxis}\\PY{p}{]}\n",
       "\n",
       "\\PY{c+c1}{\\PYZsh{} Create linear regression object}\n",
       "\\PY{n}{lin\\PYZus{}reg} \\PY{o}{=} \\PY{n}{LinearRegression}\\PY{p}{(}\\PY{p}{)}\n",
       "\n",
       "\\PY{c+c1}{\\PYZsh{} Fit data to linear regression model}\n",
       "\\PY{n}{lin\\PYZus{}reg}\\PY{o}{.}\\PY{n}{fit}\\PY{p}{(}\\PY{n}{x}\\PY{p}{,} \\PY{n}{y}\\PY{p}{)}\n",
       "\n",
       "\\PY{c+c1}{\\PYZsh{} Print slope and intercept}\n",
       "\\PY{n+nb}{print}\\PY{p}{(}\\PY{l+s+s1}{\\PYZsq{}}\\PY{l+s+s1}{Slope: }\\PY{l+s+s1}{\\PYZsq{}}\\PY{p}{,} \\PY{n}{lin\\PYZus{}reg}\\PY{o}{.}\\PY{n}{coef\\PYZus{}}\\PY{p}{[}\\PY{l+m+mi}{0}\\PY{p}{]}\\PY{p}{[}\\PY{l+m+mi}{0}\\PY{p}{]}\\PY{p}{)}\n",
       "\\PY{n+nb}{print}\\PY{p}{(}\\PY{l+s+s1}{\\PYZsq{}}\\PY{l+s+s1}{Intercept: }\\PY{l+s+s1}{\\PYZsq{}}\\PY{p}{,} \\PY{n}{lin\\PYZus{}reg}\\PY{o}{.}\\PY{n}{intercept\\PYZus{}}\\PY{p}{[}\\PY{l+m+mi}{0}\\PY{p}{]}\\PY{p}{)}\n",
       "\\PY{err}{`}\\PY{err}{`}\\PY{err}{`}\n",
       "\\end{Verbatim}\n"
      ],
      "text/plain": [
       "```\n",
       "import numpy as np\n",
       "from sklearn.linear_model import LinearRegression\n",
       "\n",
       "# Generate sample data\n",
       "x = np.linspace(0, 2*np.pi, 100)\n",
       "y = np.sin(x)\n",
       "\n",
       "# Reshape data for sklearn\n",
       "x = x[:, np.newaxis]\n",
       "y = y[:, np.newaxis]\n",
       "\n",
       "# Create linear regression object\n",
       "lin_reg = LinearRegression()\n",
       "\n",
       "# Fit data to linear regression model\n",
       "lin_reg.fit(x, y)\n",
       "\n",
       "# Print slope and intercept\n",
       "print('Slope: ', lin_reg.coef_[0][0])\n",
       "print('Intercept: ', lin_reg.intercept_[0])\n",
       "```"
      ]
     },
     "metadata": {},
     "output_type": "display_data"
    }
   ],
   "source": [
    "from IPython.display import Code\n",
    "code = Code(data=completion.choices[0].message.content, language='python')\n",
    "display(code)"
   ]
  },
  {
   "cell_type": "code",
   "execution_count": 8,
   "metadata": {},
   "outputs": [],
   "source": [
    "with open(\"code/code1.py\", \"w\") as file:\n",
    "    file.write(completion.choices[0].message.content)"
   ]
  },
  {
   "cell_type": "code",
   "execution_count": 1,
   "metadata": {},
   "outputs": [
    {
     "data": {
      "image/png": "[encoded data removed]",
      "text/plain": [
       "<Figure size 640x480 with 1 Axes>"
      ]
     },
     "metadata": {},
     "output_type": "display_data"
    }
   ],
   "source": [
    "import numpy as np\n",
    "import matplotlib.pyplot as plt\n",
    "\n",
    "# Generate some random data points for a sine function\n",
    "x = np.linspace(0, 2*np.pi, 50)\n",
    "y = np.sin(x)\n",
    "\n",
    "# Add some noise to the data\n",
    "noise = np.random.normal(0, 0.1, len(y))\n",
    "y += noise\n",
    "\n",
    "# Perform linear regression on the data\n",
    "fit = np.polyfit(x, y, deg=1)\n",
    "y_pred = np.polyval(fit, x)\n",
    "\n",
    "# Plot the data and the fitted line\n",
    "plt.scatter(x, y)\n",
    "plt.plot(x, y_pred, color='red')\n",
    "plt.show()"
   ]
  }
 ],
 "metadata": {
  "kernelspec": {
   "display_name": "Python 3.9.1 ('env': venv)",
   "language": "python",
   "name": "python3"
  },
  "language_info": {
   "codemirror_mode": {
    "name": "ipython",
    "version": 3
   },
   "file_extension": ".py",
   "mimetype": "text/x-python",
   "name": "python",
   "nbconvert_exporter": "python",
   "pygments_lexer": "ipython3",
   "version": "3.10.4"
  },
  "orig_nbformat": 4,
  "vscode": {
   "interpreter": {
    "hash": "1f8793531040e078a3f61bccc8873f867813405479a1392653bc55bb64e1f300"
   }
  }
 },
 "nbformat": 4,
 "nbformat_minor": 2
}
