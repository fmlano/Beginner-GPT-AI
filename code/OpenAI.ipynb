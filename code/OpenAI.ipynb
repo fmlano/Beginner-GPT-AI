{
 "cells": [
  {
   "cell_type": "markdown",
   "metadata": {},
   "source": [
    "\n",
    "<a name=\"T_AF6A07B6\"></a>\n",
    "# <span style=\"color:rgb(213,80,0)\">OpenAI</span>\n",
    "<a name=\"beginToc\"></a>\n",
    "## Table of Contents\n",
    "[Set-up Python](#H_8E54DC95)\n",
    "\n",
    "[Set-up OpenAI](#H_CE62BA4B)\n",
    "\n",
    "[GPT 3.5 turbo](#H_9B3A346A)\n",
    "\n",
    "[Generate code](#H_D35695B2)\n",
    "\n",
    "<a name=\"endToc\"></a>\n",
    "\n",
    "**Resources**\n",
    "\n",
    "   -  [Introducing ChatGPT and Whisper APIs](https://openai.com/blog/introducing-chatgpt-and-whisper-apis)\n",
    "   -  [Chat completions](https://platform.openai.com/docs/guides/chat/introduction)\n",
    "\n",
    "<a name=\"H_8E54DC95\"></a>\n",
    "# Set-up Python"
   ]
  },
  {
   "cell_type": "code",
   "execution_count": 1,
   "outputs": [],
   "metadata": {},
   "source": [
    "pyenv(Version=\"env\\Scripts\\python.exe\",ExecutionMode=\"OutOfProcess\")"
   ]
  },
  {
   "cell_type": "markdown",
   "metadata": {},
   "source": [
    "<a name=\"H_CE62BA4B\"></a>\n",
    "# Set-up OpenAI\n",
    "\n",
    "Save OpenAI key in secrets.toml file\n",
    ""
   ]
  },
  {
   "cell_type": "code",
   "execution_count": 2,
   "outputs": [],
   "metadata": {},
   "source": [
    "pythonCode = [\"import tomli;\"; ...\n",
    "    \"f = open('.streamlit\\secrets.toml','rb')\"; ...\n",
    "    \"toml_dict = tomli.load(f)\"; ...\n",
    "    \"key = toml_dict['OPEN_AI_KEY']\"; ...\n",
    "    \"f.close()\"];\n",
    "OPEN_AI_KEY = pyrun(pythonCode,\"key\");\n",
    "% OPEN_AI_KEY = string(OPEN_AI_KEY);"
   ]
  },
  {
   "cell_type": "markdown",
   "metadata": {},
   "source": [
    "\n",
    "Or enter the API key directly in the notebook (don't share your key with others):\n",
    ""
   ]
  },
  {
   "cell_type": "code",
   "execution_count": 3,
   "outputs": [],
   "metadata": {},
   "source": [
    "% OPEN_AI_KEY = \"\";"
   ]
  },
  {
   "cell_type": "markdown",
   "metadata": {},
   "source": [
    "\n",
    "Set-up the API with the key:\n",
    ""
   ]
  },
  {
   "cell_type": "code",
   "execution_count": 4,
   "outputs": [],
   "metadata": {},
   "source": [
    "pyrun(\"import openai;openai.api_key = OPEN_AI_KEY\",OPEN_AI_KEY = OPEN_AI_KEY)"
   ]
  },
  {
   "cell_type": "markdown",
   "metadata": {},
   "source": [
    "<a name=\"H_9B3A346A\"></a>\n",
    "# GPT 3.5 turbo"
   ]
  },
  {
   "cell_type": "code",
   "execution_count": 5,
   "outputs": [],
   "metadata": {},
   "source": [
    "c = \"The following is a conversation with an AI assistant. The assistant is helpful, creative, clever, and very friendly.\"; %context\n",
    "p = \"Hello! \"; %prompt\n",
    "pythonCode = [\"import openai;\" + ...\n",
    "    \"completion = openai.ChatCompletion.create(model='gpt-3.5-turbo',\" ...\n",
    "    \"messages=[{'role': 'system','content': c},{'role': 'user','content': p}]);\" ...\n",
    "    \"response = completion.choices[0].message.content\"];\n",
    "response = string(pyrun(pythonCode,\"response\",c=c,p=p))"
   ]
  },
  {
   "cell_type": "markdown",
   "metadata": {},
   "source": [
    "<a name=\"H_D35695B2\"></a>\n",
    "# Generate code"
   ]
  },
  {
   "cell_type": "code",
   "execution_count": 6,
   "outputs": [],
   "metadata": {},
   "source": [
    "c = \"you will give only MATLAB code as output, no explanatory text\"; %context\n",
    "p = \"write a linear regression on a sine function\"; %prompt\n",
    "pythonCode = [\"import openai;\" + ...\n",
    "    \"completion = openai.ChatCompletion.create(model='gpt-3.5-turbo',\" ...\n",
    "    \"messages=[{'role': 'system','content': c},{'role': 'user','content': p}]);\" ...\n",
    "    \"response = completion.choices[0].message.content\"];\n",
    "response = string(pyrun(pythonCode,\"response\",c=c,p=p))"
   ]
  },
  {
   "cell_type": "code",
   "execution_count": 7,
   "outputs": [],
   "metadata": {},
   "source": [
    "eval(response)"
   ]
  },
  {
   "cell_type": "code",
   "execution_count": 8,
   "outputs": [],
   "metadata": {},
   "source": [
    "% Open a new file for writing\n",
    "filename = 'code/code2.m';\n",
    "fileID = fopen(filename, 'w');\n",
    "% Write the string to the file\n",
    "fprintf(fileID, '%s', response);\n",
    "% Close the file\n",
    "fclose(fileID);\n",
    "% Open the file in the editor\n",
    "edit(filename)"
   ]
  },
  {
   "cell_type": "markdown",
   "metadata": {},
   "source": [
    ""
   ]
  }
 ],
 "metadata": {
  "kernelspec": {
   "display_name": "MATLAB (matlabkernel)",
   "language": "matlab",
   "name": "matlab"
  },
  "language_info": {
   "file_extension": ".m",
   "mimetype": "text/matlab",
   "name": "matlab",
   "nbconvert_exporter": "matlab",
   "pygments_lexer": "matlab",
   "version": "9.13.0.2080170"
  }
 },
 "nbformat": 4,
 "nbformat_minor": 4
}
