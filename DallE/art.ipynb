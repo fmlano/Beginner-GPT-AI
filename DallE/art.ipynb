{
 "cells": [
  {
   "cell_type": "markdown",
   "metadata": {},
   "source": [
    "# Valérie"
   ]
  },
  {
   "cell_type": "code",
   "execution_count": 1,
   "metadata": {},
   "outputs": [],
   "source": [
    "import pandas as pd\n",
    "from selenium import webdriver\n",
    "from selenium.webdriver.common.by import By\n",
    "driver = webdriver.Chrome()"
   ]
  },
  {
   "cell_type": "code",
   "execution_count": 2,
   "metadata": {},
   "outputs": [],
   "source": [
    "url = \"https://brochand.odexpo.com/pro_page.asp?page=11932&sm=&galerie=11895&ng=2008%20Ports&lg=#5\"\n",
    "driver.get(url)"
   ]
  },
  {
   "cell_type": "markdown",
   "metadata": {},
   "source": [
    "## Manual"
   ]
  },
  {
   "cell_type": "code",
   "execution_count": 3,
   "metadata": {},
   "outputs": [],
   "source": [
    "select = driver.find_element(By.CLASS_NAME,\"comb_gal\")\n",
    "options = select.find_elements(By.TAG_NAME,\"option\")"
   ]
  },
  {
   "cell_type": "code",
   "execution_count": 4,
   "metadata": {},
   "outputs": [
    {
     "data": {
      "text/plain": [
       "33"
      ]
     },
     "execution_count": 4,
     "metadata": {},
     "output_type": "execute_result"
    }
   ],
   "source": [
    "len(options)"
   ]
  },
  {
   "cell_type": "code",
   "execution_count": 23,
   "metadata": {},
   "outputs": [
    {
     "data": {
      "text/plain": [
       "'2014 Normandie'"
      ]
     },
     "execution_count": 23,
     "metadata": {},
     "output_type": "execute_result"
    }
   ],
   "source": [
    "options[8].text"
   ]
  },
  {
   "cell_type": "code",
   "execution_count": 24,
   "metadata": {},
   "outputs": [],
   "source": [
    "options[8].click()"
   ]
  },
  {
   "cell_type": "code",
   "execution_count": 34,
   "metadata": {},
   "outputs": [
    {
     "data": {
      "text/plain": [
       "7"
      ]
     },
     "execution_count": 34,
     "metadata": {},
     "output_type": "execute_result"
    }
   ],
   "source": [
    "thumbs = driver.find_element(By.CLASS_NAME,\"thumbs\").find_elements(By.TAG_NAME,\"img\")\n",
    "len(thumbs)"
   ]
  },
  {
   "cell_type": "code",
   "execution_count": 37,
   "metadata": {},
   "outputs": [],
   "source": [
    "thumbs[0].click()"
   ]
  },
  {
   "cell_type": "code",
   "execution_count": 38,
   "metadata": {},
   "outputs": [],
   "source": [
    "for thumb in thumbs:\n",
    "    thumb.click()"
   ]
  },
  {
   "cell_type": "code",
   "execution_count": 39,
   "metadata": {},
   "outputs": [
    {
     "data": {
      "text/plain": [
       "'https://brochand.odexpo.com/images/32531/453426283908231.jpg'"
      ]
     },
     "execution_count": 39,
     "metadata": {},
     "output_type": "execute_result"
    }
   ],
   "source": [
    "slideshow = driver.find_element(By.ID,\"slideshow\")\n",
    "img = slideshow.find_element(By.TAG_NAME,\"img\")\n",
    "src = img.get_attribute('src')\n",
    "src"
   ]
  },
  {
   "cell_type": "code",
   "execution_count": 40,
   "metadata": {},
   "outputs": [
    {
     "data": {
      "text/html": [
       "<img src=\"https://brochand.odexpo.com/images/32531/453426283908231.jpg\"/>"
      ],
      "text/plain": [
       "<IPython.core.display.Image object>"
      ]
     },
     "execution_count": 40,
     "metadata": {},
     "output_type": "execute_result"
    }
   ],
   "source": [
    "from IPython.display import Image \n",
    "Image(url=src)"
   ]
  },
  {
   "cell_type": "code",
   "execution_count": 43,
   "metadata": {},
   "outputs": [
    {
     "data": {
      "text/plain": [
       "'pro_page.asp?page=11932&sm=&galerie=12131&ng=2000 Maroc&lg='"
      ]
     },
     "execution_count": 43,
     "metadata": {},
     "output_type": "execute_result"
    }
   ],
   "source": [
    "select = driver.find_element(By.CLASS_NAME,\"comb_gal\")\n",
    "options = select.find_elements(By.TAG_NAME,\"option\")\n",
    "s = options[-1].get_attribute('value')\n",
    "s"
   ]
  },
  {
   "cell_type": "code",
   "execution_count": 49,
   "metadata": {},
   "outputs": [
    {
     "data": {
      "text/plain": [
       "28"
      ]
     },
     "execution_count": 49,
     "metadata": {},
     "output_type": "execute_result"
    }
   ],
   "source": [
    "s.find('galerie=')"
   ]
  },
  {
   "cell_type": "code",
   "execution_count": 46,
   "metadata": {},
   "outputs": [
    {
     "data": {
      "text/plain": [
       "8"
      ]
     },
     "execution_count": 46,
     "metadata": {},
     "output_type": "execute_result"
    }
   ],
   "source": [
    "len('galerie=')"
   ]
  },
  {
   "cell_type": "code",
   "execution_count": 48,
   "metadata": {},
   "outputs": [
    {
     "data": {
      "text/plain": [
       "'12131'"
      ]
     },
     "execution_count": 48,
     "metadata": {},
     "output_type": "execute_result"
    }
   ],
   "source": [
    "\n",
    "s[28+8:28+8+5]"
   ]
  },
  {
   "cell_type": "code",
   "execution_count": 54,
   "metadata": {},
   "outputs": [],
   "source": [
    "d = {}\n",
    "import os\n",
    "for i in range(1,33):\n",
    "    select = driver.find_element(By.CLASS_NAME,\"comb_gal\")\n",
    "    options = select.find_elements(By.TAG_NAME,\"option\")\n",
    "    s = options[i].get_attribute('value')\n",
    "    # os.mkdir('img/art/'+s[28+8:28+8+5])\n",
    "    d[s[28+8:28+8+5]] = options[i].text\n",
    "    "
   ]
  },
  {
   "cell_type": "code",
   "execution_count": 57,
   "metadata": {},
   "outputs": [],
   "source": [
    "import os\n",
    "os.chdir('img/art')"
   ]
  },
  {
   "cell_type": "code",
   "execution_count": 59,
   "metadata": {},
   "outputs": [],
   "source": [
    "import shutil\n",
    "for k,v in d.items():\n",
    "    shutil.copytree(k, v) "
   ]
  },
  {
   "cell_type": "markdown",
   "metadata": {},
   "source": [
    "## Semi-Automate"
   ]
  },
  {
   "cell_type": "code",
   "execution_count": 38,
   "metadata": {},
   "outputs": [
    {
     "name": "stdout",
     "output_type": "stream",
     "text": [
      "2006 Villes\n",
      "2006 Asie\n",
      "2006 Collages\n",
      "2006 Ethnique\n",
      "2005 Mer et rochers\n",
      "2005 Méditerranée\n",
      "2005 Marines\n",
      "2004 Architecture\n",
      "2004 New York\n",
      "2003 Végétation\n",
      "2002 Perroquets\n",
      "2001 Animaux\n",
      "2001 Nus\n",
      "2000 Maroc\n"
     ]
    }
   ],
   "source": [
    "import time\n",
    "links = []\n",
    "for i in range(19,33):\n",
    "    select = driver.find_element(By.CLASS_NAME,\"comb_gal\")\n",
    "    options = select.find_elements(By.TAG_NAME,\"option\")\n",
    "    print(options[i].text)\n",
    "    options[i].click()\n",
    "    thumbs = driver.find_element(By.CLASS_NAME,\"thumbs\").find_elements(By.TAG_NAME,\"img\")\n",
    "    for thumb in thumbs:\n",
    "        time.sleep(1)\n",
    "        thumb.click()\n",
    "        slideshow = driver.find_element(By.ID,\"slideshow\")\n",
    "        img = slideshow.find_element(By.TAG_NAME,\"img\")\n",
    "        src = img.get_attribute('src')\n",
    "        links.append(src)"
   ]
  },
  {
   "cell_type": "code",
   "execution_count": null,
   "metadata": {},
   "outputs": [],
   "source": [
    "# For galeries that have 2 pages\n",
    "import time\n",
    "links = []\n",
    "thumbs = driver.find_element(By.CLASS_NAME,\"thumbs\").find_elements(By.TAG_NAME,\"img\")\n",
    "thumbs.reverse()\n",
    "for thumb in thumbs:\n",
    "    time.sleep(1)\n",
    "    thumb.click()\n",
    "    slideshow = driver.find_element(By.ID,\"slideshow\")\n",
    "    img = slideshow.find_element(By.TAG_NAME,\"img\")\n",
    "    src = img.get_attribute('src')\n",
    "    links.append(src)"
   ]
  },
  {
   "cell_type": "code",
   "execution_count": 53,
   "metadata": {},
   "outputs": [],
   "source": [
    "from urllib.request import urlretrieve\n",
    "for link in links:\n",
    "    urlretrieve(link,'img/art/'+link.replace('https://brochand.odexpo.com/images/',''))"
   ]
  }
 ],
 "metadata": {
  "kernelspec": {
   "display_name": "Python 3.9.1 ('env': venv)",
   "language": "python",
   "name": "python3"
  },
  "language_info": {
   "codemirror_mode": {
    "name": "ipython",
    "version": 3
   },
   "file_extension": ".py",
   "mimetype": "text/x-python",
   "name": "python",
   "nbconvert_exporter": "python",
   "pygments_lexer": "ipython3",
   "version": "3.9.1"
  },
  "orig_nbformat": 4,
  "vscode": {
   "interpreter": {
    "hash": "462ea191787e72a88020737fd95e659c2442bc4523be61c721b9991d44ac14d4"
   }
  }
 },
 "nbformat": 4,
 "nbformat_minor": 2
}
