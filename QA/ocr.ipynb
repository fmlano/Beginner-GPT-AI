{
 "cells": [
  {
   "attachments": {},
   "cell_type": "markdown",
   "metadata": {},
   "source": [
    "## OCR"
   ]
  },
  {
   "attachments": {},
   "cell_type": "markdown",
   "metadata": {},
   "source": [
    "Install Tesseract OCR\n",
    "https://tesseract-ocr.github.io/tessdoc/Installation.html\n",
    "\n",
    "`sudo apt install tesseract-ocr` "
   ]
  },
  {
   "cell_type": "code",
   "execution_count": 1,
   "metadata": {},
   "outputs": [
    {
     "name": "stdout",
     "output_type": "stream",
     "text": [
      " \n",
      "\n",
      ">| ChatGPT-like bot zt\n",
      "\n",
      "Enter your message:\n",
      "\n",
      " \n",
      "\n",
      "Hello!\n",
      "\n",
      "‘@ ChatGPT:\n",
      "\n",
      "Hi! How may | assist you today?\n",
      "\n",
      "Made with Streamlit ra\n",
      "\f\n"
     ]
    }
   ],
   "source": [
    "import pytesseract\n",
    "from PIL import Image\n",
    "\n",
    "# Set the path to the image file\n",
    "img_path = '../img/chatGPT.png'\n",
    "\n",
    "# Open the image using PIL\n",
    "with Image.open(img_path) as img:\n",
    "    # Use Pytesseract to read text from the image\n",
    "    text = pytesseract.image_to_string(img)\n",
    "\n",
    "# Print the extracted text\n",
    "print(text)"
   ]
  },
  {
   "cell_type": "code",
   "execution_count": 5,
   "metadata": {},
   "outputs": [
    {
     "data": {
      "text/plain": [
       "16"
      ]
     },
     "execution_count": 5,
     "metadata": {},
     "output_type": "execute_result"
    }
   ],
   "source": [
    "import os\n",
    "pages = os.listdir('../book/')\n",
    "len(pages)"
   ]
  },
  {
   "cell_type": "code",
   "execution_count": 10,
   "metadata": {},
   "outputs": [
    {
     "data": {
      "text/plain": [
       "['IMG_20230409_194818.jpg',\n",
       " 'IMG_20230409_194826.jpg',\n",
       " 'IMG_20230409_194833.jpg',\n",
       " 'IMG_20230409_194842.jpg',\n",
       " 'IMG_20230409_194857.jpg',\n",
       " 'IMG_20230409_194905.jpg',\n",
       " 'IMG_20230409_194914.jpg',\n",
       " 'IMG_20230409_194922.jpg',\n",
       " 'IMG_20230409_194929.jpg',\n",
       " 'IMG_20230409_194935.jpg',\n",
       " 'IMG_20230409_194942.jpg',\n",
       " 'IMG_20230409_194948.jpg',\n",
       " 'IMG_20230409_194955.jpg',\n",
       " 'IMG_20230409_195004.jpg',\n",
       " 'IMG_20230409_195008.jpg',\n",
       " 'IMG_20230409_195012.jpg']"
      ]
     },
     "execution_count": 10,
     "metadata": {},
     "output_type": "execute_result"
    }
   ],
   "source": [
    "pages.sort()\n",
    "pages"
   ]
  },
  {
   "cell_type": "code",
   "execution_count": 12,
   "metadata": {},
   "outputs": [
    {
     "name": "stdout",
     "output_type": "stream",
     "text": [
      "   \n",
      "  \n",
      "  \n",
      "  \n",
      "   \n",
      "  \n",
      " \n",
      "  \n",
      " \n",
      "   \n",
      "  \n",
      "  \n",
      "   \n",
      "  \n",
      "\n",
      "attract custom\n",
      "being, distribution\n",
      "\n",
      "Customer-Oriented Distr’\n",
      "\n",
      "The world of high-tech sales, marketin\n",
      "\n",
      "been changing dramatically over the p\n",
      "to the increasing impact of the World W:\n",
      "\n",
      "not been changing, On the other hand, «\n",
      "distribution channels are targeting. Ess\n",
      "\n",
      "into five classes, each of which is associ\n",
      "\n",
      "approae hy:\n",
      "\n",
      "|, Enterprise executives making big-ticket |\n",
      "focused on complex systems to be ad ,\n",
      "their companies,\n",
      "\n",
      "2, End users making relatively low-cost pu\n",
      "\n",
      "focused on personal or workgroup tech\n",
      "\n",
      "opted locally and individually,\n",
      "\n",
      "Department heads making medium-cost f\n",
      "\n",
      "—\n",
      "\n",
      "for Use -Case tf\n",
      "W Use -Case specific solutions that will\n",
      "their own organization,\n",
      "4, Lingineers maki )\n",
      "Wii making design decisions for pt }\n",
      "(oO be |\n",
      "sold to their company’s customers,\n",
      "\f\n"
     ]
    }
   ],
   "source": [
    "img_path = '../book/'+pages[1]\n",
    "with Image.open(img_path) as img:\n",
    "    # Use Pytesseract to read text from the image\n",
    "    text = pytesseract.image_to_string(img)\n",
    "\n",
    "# Print the extracted text\n",
    "print(text)"
   ]
  }
 ],
 "metadata": {
  "kernelspec": {
   "display_name": "Python 3",
   "language": "python",
   "name": "python3"
  },
  "language_info": {
   "codemirror_mode": {
    "name": "ipython",
    "version": 3
   },
   "file_extension": ".py",
   "mimetype": "text/x-python",
   "name": "python",
   "nbconvert_exporter": "python",
   "pygments_lexer": "ipython3",
   "version": "3.10.4"
  },
  "orig_nbformat": 4
 },
 "nbformat": 4,
 "nbformat_minor": 2
}
