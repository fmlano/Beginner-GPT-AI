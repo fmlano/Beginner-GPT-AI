{
 "cells": [
  {
   "attachments": {},
   "cell_type": "markdown",
   "metadata": {},
   "source": [
    "# Question Answering"
   ]
  },
  {
   "attachments": {},
   "cell_type": "markdown",
   "metadata": {},
   "source": [
    "## PDF reader"
   ]
  },
  {
   "attachments": {},
   "cell_type": "markdown",
   "metadata": {},
   "source": [
    "https://archive.org/details/crossingthechasm_202002"
   ]
  },
  {
   "cell_type": "code",
   "execution_count": null,
   "metadata": {},
   "outputs": [],
   "source": [
    "%pip install langchain openai chromadb tiktoken pypdf llama-index tqdm"
   ]
  },
  {
   "cell_type": "code",
   "execution_count": 1,
   "metadata": {},
   "outputs": [],
   "source": [
    "import os\n",
    "import tomli\n",
    "import openai\n",
    "with open('../.streamlit/secrets.toml','rb') as f:\n",
    "    toml_dict = tomli.load(f)\n",
    "openai.api_key = toml_dict['OPEN_AI_KEY']\n",
    "os.environ['OPENAI_API_KEY'] = toml_dict['OPEN_AI_KEY']\n",
    "# os.environ['PINECONE_API_KEY'] = toml_dict['PINECONE_API_KEY']\n",
    "# os.environ['PINECONE_API_ENV'] = toml_dict['PINECONE_API_ENV']\n",
    "os.environ['aws_access_key_id'] = toml_dict['aws']['aws_access_key_id']\n",
    "os.environ['aws_secret_access_key'] = toml_dict['aws']['aws_secret_access_key']"
   ]
  },
  {
   "attachments": {},
   "cell_type": "markdown",
   "metadata": {},
   "source": [
    "### Document loaders"
   ]
  },
  {
   "cell_type": "code",
   "execution_count": 2,
   "metadata": {},
   "outputs": [],
   "source": [
    "# load document with langchain\n",
    "from langchain.document_loaders import PyPDFLoader\n",
    "loader = PyPDFLoader(\"../book/Crossing the Chasm.pdf\")\n",
    "documents = loader.load()"
   ]
  },
  {
   "cell_type": "code",
   "execution_count": 2,
   "metadata": {},
   "outputs": [],
   "source": [
    "# load single PDF\n",
    "from llama_index import download_loader\n",
    "PDFReader = download_loader(\"PDFReader\")\n",
    "loader = PDFReader()\n",
    "documents = loader.load_data(\"../book/Crossing the Chasm.pdf\")"
   ]
  },
  {
   "cell_type": "code",
   "execution_count": null,
   "metadata": {},
   "outputs": [],
   "source": [
    "# break down into 1 pdf per page"
   ]
  },
  {
   "cell_type": "code",
   "execution_count": 10,
   "metadata": {},
   "outputs": [],
   "source": [
    "# load folder\n",
    "from llama_index import SimpleDirectoryReader\n",
    "documents = SimpleDirectoryReader('../book/').load_data()"
   ]
  },
  {
   "cell_type": "code",
   "execution_count": null,
   "metadata": {},
   "outputs": [],
   "source": [
    "# Failing: load from S3\n",
    "from llama_index import download_loader\n",
    "S3Reader = download_loader(\"S3Reader\")\n",
    "s3_bucket = 'book48'\n",
    "object_name = 'book/Crossing the Chasm.pdf'\n",
    "loader = S3Reader(bucket=s3_bucket, key=object_name, \n",
    "                  aws_access_id = os.environ['aws_access_key_id'],\n",
    "                    aws_access_secret = os.environ['aws_secret_access_key'])\n",
    "documents = loader.load_data()"
   ]
  },
  {
   "attachments": {},
   "cell_type": "markdown",
   "metadata": {},
   "source": [
    "### Connect to S3"
   ]
  },
  {
   "cell_type": "code",
   "execution_count": 5,
   "metadata": {},
   "outputs": [],
   "source": [
    "import boto3\n",
    "s3_client = boto3.client('s3',aws_access_key_id = os.environ['aws_access_key_id'],\n",
    "                    aws_secret_access_key = os.environ['aws_secret_access_key'])\n",
    "s3_bucket = 'book48'\n",
    "object_name = 'index/index-full.json'\n",
    "file_name = 'index-full.json'\n",
    "s3_client.download_file(s3_bucket, object_name,file_name)"
   ]
  },
  {
   "attachments": {},
   "cell_type": "markdown",
   "metadata": {},
   "source": [
    "### Create index"
   ]
  },
  {
   "cell_type": "code",
   "execution_count": 42,
   "metadata": {},
   "outputs": [
    {
     "name": "stderr",
     "output_type": "stream",
     "text": [
      "WARNING:llama_index.llm_predictor.base:Unknown max input size for gpt-3.5-turbo, using defaults.\n"
     ]
    }
   ],
   "source": [
    "from llama_index import LLMPredictor, ServiceContext\n",
    "from langchain.chat_models import ChatOpenAI\n",
    "from langchain.schema import HumanMessage\n",
    "chat = ChatOpenAI(temperature=0, model_name=\"gpt-3.5-turbo\")\n",
    "llm_predictor = LLMPredictor(llm=chat)\n",
    "service_context = ServiceContext.from_defaults(llm_predictor=llm_predictor)"
   ]
  },
  {
   "cell_type": "code",
   "execution_count": 49,
   "metadata": {},
   "outputs": [
    {
     "data": {
      "text/plain": [
       "'Vendor-oriented pricing refers to a pricing strategy in which a vendor sets the price of their products or services based on their own costs, profit margins, and market position. This strategy focuses on maximizing profits for the vendor and may not account for competitive pricing or customer demand. It is also known as cost-plus pricing, as the vendor adds a markup to their costs to determine the final price. This approach may be suitable for certain industries or products, but it can also lead to pricing that is not competitive or appealing to customers.'"
      ]
     },
     "execution_count": 49,
     "metadata": {},
     "output_type": "execute_result"
    }
   ],
   "source": [
    "res = chat([HumanMessage(content='what is Vendor-Oriented Pricing?')])\n",
    "res.dict()['content']"
   ]
  },
  {
   "cell_type": "code",
   "execution_count": 30,
   "metadata": {},
   "outputs": [],
   "source": [
    "from llama_index import GPTSimpleVectorIndex\n",
    "\n",
    "# load from disk\n",
    "index = GPTSimpleVectorIndex.load_from_disk('../index/index-full.json',service_context=service_context)"
   ]
  },
  {
   "cell_type": "code",
   "execution_count": null,
   "metadata": {},
   "outputs": [],
   "source": [
    "from llama_index import GPTSimpleVectorIndex\n",
    "\n",
    "index = GPTSimpleVectorIndex.from_documents(documents,service_context=service_context)"
   ]
  },
  {
   "cell_type": "code",
   "execution_count": null,
   "metadata": {},
   "outputs": [],
   "source": [
    "# save to disk\n",
    "index.save_to_disk('../index/index.json')\n",
    "# load from disk\n",
    "index = GPTSimpleVectorIndex.load_from_disk('../index/index.json')"
   ]
  },
  {
   "cell_type": "code",
   "execution_count": 5,
   "metadata": {},
   "outputs": [
    {
     "data": {
      "text/plain": [
       "ChatOpenAI(verbose=False, callback_manager=<langchain.callbacks.shared.SharedCallbackManager object at 0x000002AC5594C3A0>, client=<class 'openai.api_resources.chat_completion.ChatCompletion'>, model_name='gpt-3.5-turbo', temperature=0.0, model_kwargs={}, openai_api_key=None, request_timeout=60, max_retries=6, streaming=False, n=1, max_tokens=None)"
      ]
     },
     "execution_count": 5,
     "metadata": {},
     "output_type": "execute_result"
    }
   ],
   "source": [
    "index.service_context.llm_predictor.llm"
   ]
  },
  {
   "attachments": {},
   "cell_type": "markdown",
   "metadata": {},
   "source": [
    "### Query index"
   ]
  },
  {
   "cell_type": "code",
   "execution_count": 31,
   "metadata": {},
   "outputs": [
    {
     "name": "stderr",
     "output_type": "stream",
     "text": [
      "INFO:llama_index.token_counter.token_counter:> [query] Total LLM token usage: 4248 tokens\n",
      "INFO:llama_index.token_counter.token_counter:> [query] Total embedding token usage: 9 tokens\n"
     ]
    }
   ],
   "source": [
    "query = 'what is Vendor-Oriented Pricing?'\n",
    "response = index.query(query)"
   ]
  },
  {
   "cell_type": "code",
   "execution_count": 36,
   "metadata": {},
   "outputs": [
    {
     "data": {
      "text/plain": [
       "'The context provided is not relevant to the original question of defining vendor-oriented pricing. Therefore, the original answer remains the same.'"
      ]
     },
     "execution_count": 36,
     "metadata": {},
     "output_type": "execute_result"
    }
   ],
   "source": [
    "response.response"
   ]
  },
  {
   "attachments": {},
   "cell_type": "markdown",
   "metadata": {},
   "source": [
    "### Add follow-up questions"
   ]
  },
  {
   "cell_type": "code",
   "execution_count": 51,
   "metadata": {},
   "outputs": [],
   "source": [
    "follow_up = f'''\n",
    "Provide a list of of 3 follow-up questions the initial query and the result associated. \n",
    "Here is the initial query:\n",
    "{query}\n",
    "Here is the result associated:\n",
    "{response.response}\n",
    "Format the output as a JSON file with a list of the 3 follow-up questions in a field called follow-up\n",
    "'''\n",
    "res = chat([HumanMessage(content=follow_up)])\n",
    "jason = res.dict()['content']"
   ]
  },
  {
   "cell_type": "code",
   "execution_count": 55,
   "metadata": {},
   "outputs": [
    {
     "data": {
      "text/plain": [
       "'{\\n   \"follow-up\": [\\n      \"Can you provide a definition of vendor-oriented pricing?\",\\n      \"Are there any examples of companies that use vendor-oriented pricing?\",\\n      \"What are the benefits and drawbacks of using vendor-oriented pricing?\"\\n   ]\\n}'"
      ]
     },
     "execution_count": 55,
     "metadata": {},
     "output_type": "execute_result"
    }
   ],
   "source": [
    "jason"
   ]
  },
  {
   "cell_type": "code",
   "execution_count": 53,
   "metadata": {},
   "outputs": [
    {
     "data": {
      "text/plain": [
       "{'follow-up': ['Can you provide a definition of vendor-oriented pricing?',\n",
       "  'Are there any examples of companies that use vendor-oriented pricing?',\n",
       "  'What are the benefits and drawbacks of using vendor-oriented pricing?']}"
      ]
     },
     "execution_count": 53,
     "metadata": {},
     "output_type": "execute_result"
    }
   ],
   "source": [
    "import json\n",
    "json.loads(jason)"
   ]
  },
  {
   "attachments": {},
   "cell_type": "markdown",
   "metadata": {},
   "source": [
    "### Other follow-up methods"
   ]
  },
  {
   "cell_type": "code",
   "execution_count": 20,
   "metadata": {},
   "outputs": [
    {
     "name": "stderr",
     "output_type": "stream",
     "text": [
      "INFO:llama_index.token_counter.token_counter:> [query] Total LLM token usage: 4473 tokens\n",
      "INFO:llama_index.token_counter.token_counter:> [query] Total embedding token usage: 9 tokens\n"
     ]
    }
   ],
   "source": [
    "# Try changing the default qa prompt (unsuccessful)\n",
    "from llama_index import QuestionAnswerPrompt\n",
    "query = \"what is Vendor-Oriented Pricing?\"\n",
    "QA_PROMPT_TMPL = (\n",
    "    \"We have provided context information below. \\n\"\n",
    "    \"---------------------\\n\"\n",
    "    \"{context_str}\"\n",
    "    \"\\n---------------------\\n\"\n",
    "    \"Given this information, please answer the question: {query_str}\\n\"\n",
    "    \"Format the output as a JSON file, with:\\n\"\n",
    "    \"- the result of the query as the main field, called result\\n\"\n",
    "    \"- a list of 3 follow-up questions relative to the initial query and the result associated, in a field called follow-up\\n\"\n",
    "    \"Give only the JSON format as output\\n\"\n",
    "    \"Do not mention if the provided context is not directly relevant to the initial query\\n\"\n",
    "\n",
    ")\n",
    "QA_PROMPT = QuestionAnswerPrompt(QA_PROMPT_TMPL)\n",
    "response = index.query(query, text_qa_template=QA_PROMPT)\n",
    "# print(response)"
   ]
  },
  {
   "cell_type": "code",
   "execution_count": 21,
   "metadata": {},
   "outputs": [
    {
     "name": "stdout",
     "output_type": "stream",
     "text": [
      "The provided context is not related to the original question about Vendor-Oriented Pricing, so the original answer will stand:\n",
      "\n",
      "\"Vendor-Oriented Pricing is a function of internal issues, beginning with cost of goods and extending to cost of sales, cost of overhead, cost of capital, promised rate of risk-adjusted return, and any number of other factors. These factors are critical to being able to manage an enterprise profitably on an ongoing basis. None of these, however, has any immediate meaning in the marketplace. They take on meaning only as they impact other market-visible issues.\"\n"
     ]
    }
   ],
   "source": [
    "print(response)"
   ]
  },
  {
   "cell_type": "code",
   "execution_count": 26,
   "metadata": {},
   "outputs": [
    {
     "name": "stderr",
     "output_type": "stream",
     "text": [
      "INFO:llama_index.token_counter.token_counter:> [query] Total LLM token usage: 4534 tokens\n",
      "INFO:llama_index.token_counter.token_counter:> [query] Total embedding token usage: 70 tokens\n"
     ]
    }
   ],
   "source": [
    "# Try adding the additional prompt together with the query to the index (unsuccessful)\n",
    "query = \"what is Vendor-Oriented Pricing?\"\n",
    "follow_up = '''\n",
    "Format the output as a JSON file, with:\n",
    "- the result of the query as the main field, called result\n",
    "- a list of 3 follow-up questions relative to the initial query and the result associated, in a field called follow-up\n",
    "Give only the JSON format as output\n",
    "'''\n",
    "response = index.query(query+follow_up)"
   ]
  },
  {
   "cell_type": "code",
   "execution_count": 27,
   "metadata": {},
   "outputs": [
    {
     "name": "stdout",
     "output_type": "stream",
     "text": [
      "Original answer:\n",
      "{\n",
      "  \"result\": \"Vendor-oriented pricing is a function of internal issues, such as cost of goods, and extending to cost of sales, cost of overhead, cost of capital, promised rate of risk-adjusted return, and any number of other factors. These factors are critical to being able to manage an enterprise profitably on an ongoing basis. None of these, however, has any immediate meaning in the marketplace. They take on meaning only as they impact other market-visible issues.\",\n",
      "  \"follow-up\": [\n",
      "    \"What are some of the factors that impact vendor-oriented pricing?\",\n",
      "    \"How do these factors impact the marketplace?\",\n",
      "    \"What is the impact of vendor-oriented pricing on the number of transactions required to create a given amount of annual revenue?\"\n",
      "  ]\n",
      "}\n",
      "\n",
      "Refined answer based on new context:\n",
      "The provided context doesn't seem to be related to the topic of Vendor-Oriented Pricing, so the original answer is still valid.\n"
     ]
    }
   ],
   "source": [
    "print(response)"
   ]
  },
  {
   "attachments": {},
   "cell_type": "markdown",
   "metadata": {},
   "source": [
    "### Get sources"
   ]
  },
  {
   "cell_type": "code",
   "execution_count": 32,
   "metadata": {},
   "outputs": [
    {
     "data": {
      "text/plain": [
       "'> Source (Doc id: ae730396-8d19-4765-8042-34524fcfea0b): decisions are among the hardest for management groups\\nto reach consensus on. The problem is that ...'"
      ]
     },
     "execution_count": 32,
     "metadata": {},
     "output_type": "execute_result"
    }
   ],
   "source": [
    "response.get_formatted_sources()"
   ]
  },
  {
   "cell_type": "code",
   "execution_count": 38,
   "metadata": {},
   "outputs": [
    {
     "data": {
      "text/plain": [
       "'decisions are among the hardest for management groups\\nto reach consensus on. The problem is that there are so many\\nperspectives competing for the controlling influence. In this sec\\xad\\ntion we are going to sort out some of those perspectives and set\\nout some rational guidelines for pricing during the chasm period.\\nCustomer-Oriented Pricing\\nThe first perspective to set on pricing is the customers’, and, as\\nwe noted in the section on discovering the chasm, that varies\\ndramatically with their psychographics. Visionaries—the cus\\xad\\ntomers dominating the early market’s development—are rela\\xad\\ntively price-insensitive. Seeking a strategic leap forward, with\\nan order-of-magnitude return on investment, they are con\\xad\\nvinced that any immediate costs are insignificant when com\\xad\\npared with the end result. Indeed, they want to make sure there\\nis, if anything, extra money in the price, because they know they\\nare going to need special service, and they want their vendors to\\nhave the funding to provide it. There is even a kind of prestige\\nin buying the high-priced alternative. All this is pure value-based\\npricing. Because of the high value placed on the end result, the\\nproduct price has a high umbrella under which it can unfold.\\nAt the other end of the market are the conservatives. They\\nwant low pricing. They have waited a long time before buying\\nLaunc h the Invasion 207\\nthe produc t—long enough for complete institutionalization of \\nthe whole produc t, and long enough for prices to have droppe d \\nto only a small margin above  cost. This is their reward for \\nbuying late. They don’t get competitive advantage, but they do \\nkeep their out-of-pocket costs way down. This is cost-based pric\\xad\\ning, something that will eventually emerge in any mainstream \\nmarket, once all the other margin-justifying elements have been \\nexhausted.\\nBetween these two types lie the pragmatists—our  target \\ncustomers for the chasm-crossing effort. Pragmatists, as we \\nhave said repeatedly, want to back the market leader. They \\nhave learned that by so doing they can keep their whole prod\\xad\\nuct costs—the costs not only of purchase but of ownership as \\nwell—to their lowest, and still get some competitive leverage \\nfrom the investment. They expect to pay a premium price for \\nthe market leader relative to the competition, perhaps as high \\nas 30 percent. This is competition-based pricing. Even though the \\nmarket leaders are getting a premium, their allowed price is still \\na function of comparison with the other players in the market. \\nAnd if they are not the market leader, they will have to apply \\nthe reverse of this rule and di scount accordingly\\nFrom the customer perspective, then, as we argued in the \\nprevious chapter, the key issue when crossing the chasm is \\nmarket leadership versus a viable competitive set, captured by \\ncomparison to your two reference competitors, and the key \\npricing strategy is premium margin above  a norm set by these \\ncomparisons. That is, you have earned a premium over the \\nmarket alternative because you have next-generation technol\\xad\\nogy and a premium over the produc t alternative because you \\nhave invested to orchestrate a segment-specific whole produc t.\\n208 Crossing the Chasm\\nVendor -Oriented Pricing\\nVendor-oriented pricing is a function of internal issues, begin\\xad\\nning with cost of goods , and extending to cost of sales, cost of \\noverhead, cost of capital, promised rate of risk-adjusted return, \\nand any number of other factors. These factors are critical to \\nbeing able to manage an enterprise profitably on an ongoi ng \\nbasis. None of these, however, has any immediate meaning in \\nthe marketplace. They take on meaning only as they impact \\nother market-visible issues.\\nFor example, vendor-oriented pricing typically sets the dis\\xad\\ntribution channel decision by establishing a price-point ballpark \\nthat puts the produc t in the direct sales, Web self-service, or \\nSales 2.0 camp. Moreover, once the produc t is in the market, \\nvendor-oriented factors can make a big impact if, for example, \\nthey allow for a low-cost pricing advantage in a late mainstream \\nmarket, or if they allow for operating margins that can fund \\nnew R&D for the next early market.\\nThe biggest impact of vendor-oriented pricing is on the \\nnumber of transactions required to create a given amount of \\nannua l revenue. Suppos e the target were $10 million, which if \\nit came from a single beachhead segment is a reasonable revenue \\nstream to sugge st you have successfully crossed the chasm. In an \\nOEM model fulfilled through two-tier distribution, that could \\nbe the result of just one or two big design wins. In a direct sales \\nmodel, it is probably more like twenty to forty transactions, \\nwith half of it coming from perhaps the top five. In a Sales \\n2.0 model, you would probably multiply that by ten—s ay, 200 \\nto 400 transactions. And in a VAR-enabled model going after \\nsmall businesses, multiply by another ten, and for a consumer \\nhigh-volume model, still another ten—s ay, 20,000—40,000 \\ntransactions averaging around $25/ month.\\nLaunch the Invasion 209\\nAs you can see, each of these price points will call into being \\na different management perspective on the sales funnel, top to \\nbottom, from suspect to prospect to qualified lead all the way to \\nclosed customer. The higher the volume, the more transactional \\nthe process, and the more you depend on filling the top of the \\nfunnel. The higher the price, the more relationship-oriented the \\nprocess, the more you focus on the bottom of the funnel. And, \\nyes, with Sales 2.0 you do tend to focus most on the middle of \\nthe funnel, where process effectiveness and efficiency have their \\nbiggest impacts.\\nThat all said, vendor-oriented pricing represents the least \\nsound basis for pricing decisions during the chasm period. This \\nis a time when you must be almost entirely externally focused— \\nboth on the new demands of the mainstream customer and the \\nnew relationship you are trying to build with a mainstream \\nchannel. Indeed, becausb of the primary importance of secur\\xad\\ning ongoing means of access to the mainstream, this latter issue \\nshould be the number-one factor for pricing decisions during \\nthis period.\\nDistribution-Oriented Pricing\\nFrom a distribution perspective, there are two pricing issues that \\nhave significant impact on channel motivation:\\n• Is it priced to sell?\\n• Is it worthwhile to sell?\\nBeing priced to sell means that price does not become a \\nmajor issue during the sales cycle. Companies crossing the \\nchasm, coming from success in the early market with visionary \\ncustomers, typically have their products priced too high. Price \\n210 Crossing the Chasm\\ndoes become an issue with the pragmatist customer, but when \\nthe channel feeds back prospect resistance and uses comparable \\nproduc ts as evidence of the expected pricing, companies too \\noften argue that they have no such competition, and that the \\nchannel does not know  how  to sell the produc t properly.\\nHowever, produc ts can also be priced too low to cross the \\nchasm. The problem here is that the price does not incorporate \\nsufficient margin to reward the channel for the extra effort re\\xad\\nquired to introduc e a disruptive innova tion into their already \\nestablished relationship with a mainstream customer. If the \\nchannel is going to go out of its way to take on something new, \\nthe reward has to be significantly more attractive than whatever \\nis available from business as usual.\\nIf we put all these perspectives together and look at them in a \\ncrossing-the-chasm context, the funda mental pricing goal should \\nbe as follows: Set pricing at the market leader price point, thereby \\nreinforcing your claims to market leadership (or at least not un\\xad\\ndercutting them), and build a disproportionately high reward for \\nthe channel into the price margin, a reward that will be phased \\nout as the produc t becomes truly established in the mainstream, \\nand competition for the right to distribute it increases.\\nRecap: Invasion Launc hing\\nTo sum up, the last step in the D-Day strategy for crossing the \\nchasm is launching the invasion—t hat is, putting a price on \\nyour produc t and putting it into a sales channel. Neither of these \\nactions resolves itself readily into a checklist of activities, but \\nthere are four key principles to gui de us:\\n1. The prime goal is to secure access to a customer-oriented \\ndistribution channel. Thi s is the channel you pr edict that\\nLaunc h the Invasion 211\\nmainstream pragmatist customers would expect and want \\nto buy your  produc t from.\\n2. The type of channel you s elect for long-term servicing of  \\nthe market is a function of  the price point of the produc t. If \\nthis is not direct sales, how ever, then dur ing the transition \\nperiod of  crossing the chasm, you m ay need to adopt a sup\\xad\\nplementary or even an alternative channel—one  oriented \\ntoward demand creation—t o stimulate early acceptance in \\nthe mainstream.\\n3. Price in the mainstream market carries a message, one  that \\ncan make your  produc t easier—or harder—to sell. Since \\nthe only acceptable message is one of market leadership, \\nyour price needs to conve y that, which makes it a function \\nof the pricing of  comparable produc ts in your  identified \\ncompetitive set.\\n4. Finally, you m ust remember that margins are the \\nchannel’s reward. Since crossing the chasm puts extra \\npressure on the channel, and since you a re often trying \\nto leverage the equity the channel has in its existing \\nrelationships with pragmatist customers, you s hould pay \\na premium margin to the channel during the chasm \\nperiod.\\nThis list of principles not only concludes this chapter but \\nalso brings to a close chapters 3 through 7, on marketing strat\\xad\\negy for crossing the chasm. The goal of these chapters has been \\nto lay out a framework of marketing ideas to assist companies in \\nmeeting the challenges of the chasm period. The D-Day strat\\xad\\negy, as a whole, seeks to emphasize both the great peril and the \\ngreat oppor tunity that lie before a company in this situation. \\nThe greatest impediment to action in such situations is often a \\n212 Crossing the Chasm\\nlack of understanding of the appropriate alternatives. Hopefully,\\nthese chapters have gone some distance toward removing that\\nimpediment.\\nThere is, finally, a larger set of issues that come into play.\\nFor if the chasm is a great challenge—and it is—it is one that is\\nm large part self-imposed. To put it simply, our industry makes\\nthe chasm worse than it has to be. Until we understand how we\\ndo so, and stop doing so, we will never really master the chasm.\\nWith this thought in mind, let us turn to our conclusion,\\n“Leaving the Chasm Behind.”\\nConclusion:\\nLeaving the Chasm Behind\\nIt has long been fashionable to talk about how high-tech com\\xad\\npanies can and should become market-driven organizations. My \\nown view, however, is that there is not any becoming involved. \\nAll organizations are market-driven, whether they acknowl\\xad\\nedge it or not. The chasm phenomenon—the rapid acceleration \\nin market development followed by a dramatic lull, occurring \\nwhenever a discontinuous innovation is introduced—drives all \\nemerging high-tech enterprises to a point of crisis where they \\nmust leave the relative safety of their established early market \\nand go out m search of a new home in the mainstream. These \\nforces are inexorable—they will drive the company. The key \\nquestion is whether management can become aware of the \\nchanges in time to leverage the opportunities such awareness \\nconfers.\\nThus far we have been treating the chasm as a market de\\xad\\nvelopment problem and have focused exclusively on market\\xad\\ning strategies and tactics for crossing it. But the impact of the \\nchasm extends beyond the marketing organization to every \\nother aspect of the high-tech enterprise. In this final chapter, \\n214 Crossing the Chasm\\ntherefore, we are going to step back from the marketing view \\nand look at three other critical arenas of change: finance, orga\\xad\\nnizational development, and R&D. Our goal throughout is to \\nguide behaviors that keep the enterprise moving forward into \\nthe mainstream marketplace and not, as so often happens, let\\xad\\nting it fall back into the chasm.\\nThe fundamental lesson of this chapter is a simple one: The \\npost-chasm enterprise is bound by the commitments made by the pre\\xad\\nchasm enterprise. These pre-chasm commitments, made in haste \\nduring the flurry of just trying to get a foothold in an early \\nmarket, are all too frequently simply unmaintainable in the \\nnew situation. That is, they promise a level of performance or \\nreward that, if delivered, would simply destroy the enterprise. \\nThis means that one of the first tasks of the post-chasm era may \\nwell be to manage one’s way out of the contradictions imposed \\nby pre-chasm agreements. This, in turn, can involve a major \\ndevaluation of the assets of the enterprise, significant demotions \\nfor people who are unsuited to the responsibilities implied by \\ntheir titles, and marked changes in authority over the future of \\nthe product and technology—all of which is likely to end in \\nbitter disappointments and deep-seated resentment. In short, it \\ncan be a very nasty period indeed.\\nThe first and best solution to this class of problems is to avoid \\nthem altogether—that is, avoid making the wrong kind of commit\\xad\\nments during the pre-chasm period. By looking ahead at the outset, \\nwhile we are still in the early market phase, to where we must \\ngo in order to survive the chasm crisis, we can vaccinate our\\xad\\nselves against making the kind ofcrippling decisions that doom \\nso many otherwise promising high-tech enterprises.\\nLet me acknowledge that this is much harder to achieve than \\nit looks. I am reminded of the many times as an adolescent when\\nLeaving the Chasm Behind 215\\nI was sagely advised that I was making some very bad choices\\nbecause I was “going through a phase.” I loathed that advice.\\nFirst, it made me feel vaguely inadequate and rather inferior to\\nthe person giving it. And second, even though I suspected it\\nto be true, it was totally useless information. I might be going\\nthrough a phase, but since I was in the phase, and was therefore\\ndoomed to perform in some incompetent way, what good was\\nthis knowledge? How could I stop being myself?\\nThat, however, is exactly what the high-tech enterprise\\nmust accomplish to leave the chasm behind. It must stop “being\\nitself”—in the sense that it must accept that it is going through\\na phase and act competently with that knowledge.\\nTo leave the chasm behind, there is a molting process that\\nmust occur, a change of company self, wherein we grow away\\nfrom celebrating familial feelings and dashing individual per\\xad\\nformances and step toward rewarding predictable, orchestrated\\ngroup dynamics. It is not a time to cease innovation or to sacri\\xad\\nfice creativity. But there is a call to redirect that energy toward\\nthe concerns of a'"
      ]
     },
     "execution_count": 38,
     "metadata": {},
     "output_type": "execute_result"
    }
   ],
   "source": [
    "response.source_nodes[0].node.get_text()"
   ]
  },
  {
   "attachments": {},
   "cell_type": "markdown",
   "metadata": {},
   "source": [
    "## Storing Embeddinds"
   ]
  },
  {
   "attachments": {},
   "cell_type": "markdown",
   "metadata": {},
   "source": [
    "### Create Embeddings manually\n"
   ]
  },
  {
   "cell_type": "code",
   "execution_count": null,
   "metadata": {},
   "outputs": [],
   "source": [
    "embed_model = \"text-embedding-ada-002\"\n",
    "\n",
    "res = openai.Embedding.create(\n",
    "    input=[\n",
    "        \"Sample document text goes here\",\n",
    "        \"there will be several phrases in each batch\"\n",
    "    ], engine=embed_model\n",
    ")"
   ]
  },
  {
   "attachments": {},
   "cell_type": "markdown",
   "metadata": {},
   "source": [
    "### Create Pinecone DB"
   ]
  },
  {
   "cell_type": "code",
   "execution_count": null,
   "metadata": {},
   "outputs": [],
   "source": [
    "import pinecone \n",
    "\n",
    "pinecone.init(api_key=os.environ['PINECONE_API_KEY'], environment=os.environ['PINECONE_API_ENV']) \n",
    "# pinecone.list_indexes()\n",
    "index = pinecone.Index('crossing-the-chasm') "
   ]
  },
  {
   "attachments": {},
   "cell_type": "markdown",
   "metadata": {},
   "source": [
    "## QA"
   ]
  },
  {
   "attachments": {},
   "cell_type": "markdown",
   "metadata": {},
   "source": [
    "### load_qa_chain"
   ]
  },
  {
   "cell_type": "code",
   "execution_count": 16,
   "metadata": {},
   "outputs": [],
   "source": [
    "# load document\n",
    "loader = PyPDFLoader(\"book/Crossing the Chasm-202-217.pdf\")\n",
    "documents = loader.load()\n"
   ]
  },
  {
   "cell_type": "code",
   "execution_count": 14,
   "metadata": {},
   "outputs": [
    {
     "name": "stderr",
     "output_type": "stream",
     "text": [
      "Retrying langchain.chat_models.openai.ChatOpenAI.completion_with_retry.<locals>._completion_with_retry in 4.0 seconds as it raised Timeout: Request timed out: HTTPSConnectionPool(host='api.openai.com', port=443): Read timed out. (read timeout=60).\n"
     ]
    },
    {
     "data": {
      "text/plain": [
       "'The given portion of the document does not provide a clear definition of Vendor-Oriented Pricing. However, it mentions that \"vendor-oriented pricing represents the least sound basis for pricing decisions during the chasm period.\"'"
      ]
     },
     "execution_count": 14,
     "metadata": {},
     "output_type": "execute_result"
    }
   ],
   "source": [
    "from langchain.chains.question_answering import load_qa_chain\n",
    "from langchain.chat_models import ChatOpenAI\n",
    "chat = ChatOpenAI(model_name='gpt-3.5-turbo')\n",
    "\n",
    "chain = load_qa_chain(llm=chat, chain_type=\"map_reduce\")\n",
    "query = \"what is Vendor-Oriented Pricing?\"\n",
    "chain.run(input_documents=documents, question=query)"
   ]
  },
  {
   "attachments": {},
   "cell_type": "markdown",
   "metadata": {},
   "source": [
    "### RetrievalQA"
   ]
  },
  {
   "cell_type": "code",
   "execution_count": 7,
   "metadata": {},
   "outputs": [],
   "source": [
    "from langchain.chains import RetrievalQA\n",
    "from langchain.indexes import VectorstoreIndexCreator\n",
    "from langchain.text_splitter import CharacterTextSplitter\n",
    "from langchain.embeddings import OpenAIEmbeddings\n",
    "from langchain.vectorstores import Chroma"
   ]
  },
  {
   "cell_type": "code",
   "execution_count": 8,
   "metadata": {},
   "outputs": [
    {
     "name": "stderr",
     "output_type": "stream",
     "text": [
      "Using embedded DuckDB without persistence: data will be transient\n"
     ]
    }
   ],
   "source": [
    "# split the documents into chunks\n",
    "text_splitter = CharacterTextSplitter(chunk_size=1000, chunk_overlap=0)\n",
    "texts = text_splitter.split_documents(documents)\n",
    "# select which embeddings we want to use\n",
    "embeddings = OpenAIEmbeddings()\n",
    "# create the vectorestore to use as the index\n",
    "db = Chroma.from_documents(texts, embeddings)"
   ]
  },
  {
   "cell_type": "code",
   "execution_count": 10,
   "metadata": {},
   "outputs": [],
   "source": [
    "# expose this index in a retriever interface\n",
    "retriever = db.as_retriever(search_type=\"similarity\", search_kwargs={\"k\":3})\n",
    "# create a chain to answer questions \n",
    "qa = RetrievalQA.from_chain_type(\n",
    "    llm=chat, chain_type=\"stuff\", retriever=retriever, return_source_documents=True)\n",
    "query = \"what is Vendor-Oriented Pricing?\"\n",
    "result = qa({\"query\": query})"
   ]
  },
  {
   "cell_type": "code",
   "execution_count": 11,
   "metadata": {},
   "outputs": [
    {
     "data": {
      "text/plain": [
       "{'query': 'what is Vendor-Oriented Pricing?',\n",
       " 'result': 'Vendor-oriented pricing is a pricing strategy that is based on internal factors such as the cost of goods, cost of sales, cost of overhead, cost of capital, promised rate of risk-adjusted return, and any number of other factors critical to managing an enterprise profitably on an ongoing basis. Its impact is on the number of transactions required to create a given amount of annual revenue. It sets the distribution channel decision by establishing a price-point ballpark that puts the product in the direct sales, web self-service, or sales 2.0 camp. The pricing strategy is not the most sound basis for pricing decisions during the chasm period, as it requires being almost entirely externally focused- both on the new demands of the mainstream customer and the new relationship you are trying to build with a mainstream channel.',\n",
       " 'source_documents': [Document(page_content='208 Crossing the Chasm\\nVendor -Oriented Pricing\\nVendor-oriented pricing is a function of internal issues, begin\\xad\\nning with cost of goods , and extending to cost of sales, cost of \\noverhead, cost of capital, promised rate of risk-adjusted return, \\nand any number of other factors. These factors are critical to \\nbeing able to manage an enterprise profitably on an ongoi ng \\nbasis. None of these, however, has any immediate meaning in \\nthe marketplace. They take on meaning only as they impact \\nother market-visible issues.\\nFor example, vendor-oriented pricing typically sets the dis\\xad\\ntribution channel decision by establishing a price-point ballpark \\nthat puts the produc t in the direct sales, Web self-service, or \\nSales 2.0 camp. Moreover, once the produc t is in the market, \\nvendor-oriented factors can make a big impact if, for example, \\nthey allow for a low-cost pricing advantage in a late mainstream \\nmarket, or if they allow for operating margins that can fund \\nnew R&D for the next early market.\\nThe biggest impact of vendor-oriented pricing is on the \\nnumber of transactions required to create a given amount of \\nannua l revenue. Suppos e the target were $10 million, which if \\nit came from a single beachhead segment is a reasonable revenue \\nstream to sugge st you have successfully crossed the chasm. In an \\nOEM model fulfilled through two-tier distribution, that could \\nbe the result of just one or two big design wins. In a direct sales \\nmodel, it is probably more like twenty to forty transactions, \\nwith half of it coming from perhaps the top five. In a Sales \\n2.0 model, you would probably multiply that by ten—s ay, 200 \\nto 400 transactions. And in a VAR-enabled model going after \\nsmall businesses, multiply by another ten, and for a consumer \\nhigh-volume model, still another ten—s ay, 20,000—40,000 \\ntransactions averaging around $25/ month.', metadata={'source': 'Crossing the Chasm.pdf', 'page': 212}),\n",
       "  Document(page_content='Launch the Invasion 209\\nAs you can see, each of these price points will call into being \\na different management perspective on the sales funnel, top to \\nbottom, from suspect to prospect to qualified lead all the way to \\nclosed customer. The higher the volume, the more transactional \\nthe process, and the more you depend on filling the top of the \\nfunnel. The higher the price, the more relationship-oriented the \\nprocess, the more you focus on the bottom of the funnel. And, \\nyes, with Sales 2.0 you do tend to focus most on the middle of \\nthe funnel, where process effectiveness and efficiency have their \\nbiggest impacts.\\nThat all said, vendor-oriented pricing represents the least \\nsound basis for pricing decisions during the chasm period. This \\nis a time when you must be almost entirely externally focused— \\nboth on the new demands of the mainstream customer and the \\nnew relationship you are trying to build with a mainstream \\nchannel. Indeed, becausb of the primary importance of secur\\xad\\ning ongoing means of access to the mainstream, this latter issue \\nshould be the number-one factor for pricing decisions during \\nthis period.\\nDistribution-Oriented Pricing\\nFrom a distribution perspective, there are two pricing issues that \\nhave significant impact on channel motivation:\\n• Is it priced to sell?\\n• Is it worthwhile to sell?\\nBeing priced to sell means that price does not become a \\nmajor issue during the sales cycle. Companies crossing the \\nchasm, coming from success in the early market with visionary \\ncustomers, typically have their products priced too high. Price', metadata={'source': 'Crossing the Chasm.pdf', 'page': 213}),\n",
       "  Document(page_content='206 Crossing the Chasm\\ntherefore, that the channel/strategy fit be a good one, and there\\nis no shame in switching channels if your first choice is not\\nbearing proper fruit.\\nDistribution-Oriented Pricing\\nPricing decisions are among the hardest for management groups\\nto reach consensus on. The problem is that there are so many\\nperspectives competing for the controlling influence. In this sec\\xad\\ntion we are going to sort out some of those perspectives and set\\nout some rational guidelines for pricing during the chasm period.\\nCustomer-Oriented Pricing\\nThe first perspective to set on pricing is the customers’, and, as\\nwe noted in the section on discovering the chasm, that varies\\ndramatically with their psychographics. Visionaries—the cus\\xad\\ntomers dominating the early market’s development—are rela\\xad\\ntively price-insensitive. Seeking a strategic leap forward, with\\nan order-of-magnitude return on investment, they are con\\xad\\nvinced that any immediate costs are insignificant when com\\xad\\npared with the end result. Indeed, they want to make sure there\\nis, if anything, extra money in the price, because they know they\\nare going to need special service, and they want their vendors to\\nhave the funding to provide it. There is even a kind of prestige\\nin buying the high-priced alternative. All this is pure value-based\\npricing. Because of the high value placed on the end result, the\\nproduct price has a high umbrella under which it can unfold.\\nAt the other end of the market are the conservatives. They\\nwant low pricing. They have waited a long time before buying', metadata={'source': 'Crossing the Chasm.pdf', 'page': 210})]}"
      ]
     },
     "execution_count": 11,
     "metadata": {},
     "output_type": "execute_result"
    }
   ],
   "source": [
    "result"
   ]
  },
  {
   "cell_type": "code",
   "execution_count": 12,
   "metadata": {},
   "outputs": [
    {
     "data": {
      "text/plain": [
       "'Vendor-oriented pricing is a pricing strategy that is based on internal factors such as the cost of goods, cost of sales, cost of overhead, cost of capital, promised rate of risk-adjusted return, and any number of other factors critical to managing an enterprise profitably on an ongoing basis. Its impact is on the number of transactions required to create a given amount of annual revenue. It sets the distribution channel decision by establishing a price-point ballpark that puts the product in the direct sales, web self-service, or sales 2.0 camp. The pricing strategy is not the most sound basis for pricing decisions during the chasm period, as it requires being almost entirely externally focused- both on the new demands of the mainstream customer and the new relationship you are trying to build with a mainstream channel.'"
      ]
     },
     "execution_count": 12,
     "metadata": {},
     "output_type": "execute_result"
    }
   ],
   "source": [
    "result['result']"
   ]
  },
  {
   "attachments": {},
   "cell_type": "markdown",
   "metadata": {},
   "source": [
    "### VectorstoreIndexCreator"
   ]
  },
  {
   "attachments": {},
   "cell_type": "markdown",
   "metadata": {},
   "source": [
    "Wrapper for the logic above\n",
    "\n",
    "Source:\n",
    "\n",
    "https://python.langchain.com/en/latest/modules/chains/getting_started.html\n",
    "https://github.com/hwchase17/langchain/blob/master/langchain/indexes/vectorstore.py#L21-L74"
   ]
  },
  {
   "cell_type": "code",
   "execution_count": null,
   "metadata": {},
   "outputs": [],
   "source": [
    "index = VectorstoreIndexCreator(\n",
    "    # split the documents into chunks\n",
    "    text_splitter=CharacterTextSplitter(chunk_size=1000, chunk_overlap=0),\n",
    "    # select which embeddings we want to use\n",
    "    embedding=OpenAIEmbeddings(),\n",
    "    # use Chroma as the vectorestore to index and search embeddings\n",
    "    vectorstore_cls=Chroma\n",
    ").from_loaders([loader])\n",
    "index.query(llm=chat, question=query, chain_type=\"stuff\")"
   ]
  },
  {
   "attachments": {},
   "cell_type": "markdown",
   "metadata": {},
   "source": [
    "### ConversationalRetrievalChain"
   ]
  },
  {
   "attachments": {},
   "cell_type": "markdown",
   "metadata": {},
   "source": [
    "conversation memory + RetrievalQAChain\n",
    "\n",
    "Allow for passing in chat history which can be used for follow up questions.\n",
    "\n",
    "Source: https://python.langchain.com/en/latest/modules/chains/index_examples/chat_vector_db.html"
   ]
  },
  {
   "cell_type": "code",
   "execution_count": null,
   "metadata": {},
   "outputs": [],
   "source": [
    "from langchain.chains import ConversationalRetrievalChain"
   ]
  },
  {
   "cell_type": "code",
   "execution_count": null,
   "metadata": {},
   "outputs": [],
   "source": [
    "# split the documents into chunks\n",
    "text_splitter = CharacterTextSplitter(chunk_size=1000, chunk_overlap=0)\n",
    "texts = text_splitter.split_documents(documents)\n",
    "# select which embeddings we want to use\n",
    "embeddings = OpenAIEmbeddings()\n",
    "# create the vectorestore to use as the index\n",
    "db = Chroma.from_documents(texts, embeddings)\n",
    "# expose this index in a retriever interface\n",
    "retriever = db.as_retriever(search_type=\"similarity\", search_kwargs={\"k\":2})\n",
    "# create a chain to answer questions \n",
    "qa = ConversationalRetrievalChain.from_llm(chat, retriever)\n",
    "chat_history = []\n",
    "result = qa({\"question\": query, \"chat_history\": chat_history})"
   ]
  },
  {
   "cell_type": "code",
   "execution_count": null,
   "metadata": {},
   "outputs": [],
   "source": [
    "result[\"answer\"]"
   ]
  },
  {
   "cell_type": "code",
   "execution_count": null,
   "metadata": {},
   "outputs": [],
   "source": [
    "chat_history = [(query, result[\"answer\"])]\n",
    "query = \"How does it differ from Distribution-Oriented Pricing?\"\n",
    "result = qa({\"question\": query, \"chat_history\": chat_history})\n"
   ]
  },
  {
   "cell_type": "code",
   "execution_count": null,
   "metadata": {},
   "outputs": [],
   "source": [
    "chat_history"
   ]
  },
  {
   "cell_type": "code",
   "execution_count": null,
   "metadata": {},
   "outputs": [],
   "source": [
    "result['answer']"
   ]
  }
 ],
 "metadata": {
  "kernelspec": {
   "display_name": "Python 3",
   "language": "python",
   "name": "python3"
  },
  "language_info": {
   "codemirror_mode": {
    "name": "ipython",
    "version": 3
   },
   "file_extension": ".py",
   "mimetype": "text/x-python",
   "name": "python",
   "nbconvert_exporter": "python",
   "pygments_lexer": "ipython3",
   "version": "3.10.4"
  },
  "orig_nbformat": 4
 },
 "nbformat": 4,
 "nbformat_minor": 2
}
